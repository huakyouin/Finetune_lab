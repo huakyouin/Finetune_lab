{
 "cells": [
  {
   "cell_type": "code",
   "execution_count": 2,
   "metadata": {},
   "outputs": [
    {
     "name": "stderr",
     "output_type": "stream",
     "text": [
      "Some weights of the model checkpoint at models/finbert were not used when initializing BertForMaskedLM: ['bert.pooler.dense.bias', 'bert.pooler.dense.weight', 'cls.seq_relationship.bias', 'cls.seq_relationship.weight']\n",
      "- This IS expected if you are initializing BertForMaskedLM from the checkpoint of a model trained on another task or with another architecture (e.g. initializing a BertForSequenceClassification model from a BertForPreTraining model).\n",
      "- This IS NOT expected if you are initializing BertForMaskedLM from the checkpoint of a model that you expect to be exactly identical (initializing a BertForSequenceClassification model from a BertForSequenceClassification model).\n"
     ]
    },
    {
     "data": {
      "text/plain": [
       "[{'score': 0.07103800773620605,\n",
       "  'token': 9030,\n",
       "  'token_str': 'python',\n",
       "  'sequence': '我 是 一 个 python 模 型.'},\n",
       " {'score': 0.05678329989314079,\n",
       "  'token': 841,\n",
       "  'token_str': '伪',\n",
       "  'sequence': '我 是 一 个 伪 模 型.'},\n",
       " {'score': 0.03376508504152298,\n",
       "  'token': 3173,\n",
       "  'token_str': '新',\n",
       "  'sequence': '我 是 一 个 新 模 型.'},\n",
       " {'score': 0.021477503702044487,\n",
       "  'token': 2207,\n",
       "  'token_str': '小',\n",
       "  'sequence': '我 是 一 个 小 模 型.'},\n",
       " {'score': 0.017684681341052055,\n",
       "  'token': 1962,\n",
       "  'token_str': '好',\n",
       "  'sequence': '我 是 一 个 好 模 型.'}]"
      ]
     },
     "execution_count": 2,
     "metadata": {},
     "output_type": "execute_result"
    }
   ],
   "source": [
    "from transformers import pipeline\n",
    "unmasker = pipeline('fill-mask', model='models/finbert')\n",
    "unmasker(\"我是一个[MASK]模型.\")\n"
   ]
  },
  {
   "cell_type": "code",
   "execution_count": 94,
   "metadata": {},
   "outputs": [
    {
     "name": "stderr",
     "output_type": "stream",
     "text": [
      "Some weights of BertForSequenceClassification were not initialized from the model checkpoint at models/finbert and are newly initialized: ['classifier.bias', 'classifier.weight']\n",
      "You should probably TRAIN this model on a down-stream task to be able to use it for predictions and inference.\n"
     ]
    },
    {
     "data": {
      "text/plain": [
       "[{'label': 'LABEL_1', 'score': 0.5220969319343567},\n",
       " {'label': 'LABEL_0', 'score': 0.5710163712501526}]"
      ]
     },
     "execution_count": 94,
     "metadata": {},
     "output_type": "execute_result"
    }
   ],
   "source": [
    "from transformers import pipeline\n",
    "analyzer = pipeline('sentiment-analysis', model='models/finbert')\n",
    "analyzer.predict([\"银行股全线飘绿 平安银行跌4%\",\"银行股全线飘红 平安银行涨4%\"])"
   ]
  }
 ],
 "metadata": {
  "kernelspec": {
   "display_name": "sft2",
   "language": "python",
   "name": "python3"
  },
  "language_info": {
   "codemirror_mode": {
    "name": "ipython",
    "version": 3
   },
   "file_extension": ".py",
   "mimetype": "text/x-python",
   "name": "python",
   "nbconvert_exporter": "python",
   "pygments_lexer": "ipython3",
   "version": "3.10.14"
  },
  "orig_nbformat": 4
 },
 "nbformat": 4,
 "nbformat_minor": 2
}
