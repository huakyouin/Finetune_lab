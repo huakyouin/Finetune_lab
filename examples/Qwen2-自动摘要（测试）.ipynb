{
 "cells": [
  {
   "cell_type": "code",
   "execution_count": 1,
   "metadata": {},
   "outputs": [
    {
     "name": "stdout",
     "output_type": "stream",
     "text": [
      "Requirement already satisfied: evaluate in /home/newdisk/jxh/anaconda/envs/sft2/lib/python3.10/site-packages (0.4.2)\n",
      "Requirement already satisfied: nltk in /home/newdisk/jxh/anaconda/envs/sft2/lib/python3.10/site-packages (3.8.1)\n",
      "Requirement already satisfied: rouge_score in /home/newdisk/jxh/anaconda/envs/sft2/lib/python3.10/site-packages (0.1.2)\n",
      "Requirement already satisfied: absl-py in /home/newdisk/jxh/anaconda/envs/sft2/lib/python3.10/site-packages (2.1.0)\n",
      "Requirement already satisfied: datasets>=2.0.0 in /home/newdisk/jxh/anaconda/envs/sft2/lib/python3.10/site-packages (from evaluate) (2.20.0)\n",
      "Requirement already satisfied: numpy>=1.17 in /home/newdisk/jxh/anaconda/envs/sft2/lib/python3.10/site-packages (from evaluate) (1.26.3)\n",
      "Requirement already satisfied: dill in /home/newdisk/jxh/anaconda/envs/sft2/lib/python3.10/site-packages (from evaluate) (0.3.8)\n",
      "Requirement already satisfied: pandas in /home/newdisk/jxh/anaconda/envs/sft2/lib/python3.10/site-packages (from evaluate) (2.2.2)\n",
      "Requirement already satisfied: requests>=2.19.0 in /home/newdisk/jxh/anaconda/envs/sft2/lib/python3.10/site-packages (from evaluate) (2.32.3)\n",
      "Requirement already satisfied: tqdm>=4.62.1 in /home/newdisk/jxh/anaconda/envs/sft2/lib/python3.10/site-packages (from evaluate) (4.66.4)\n",
      "Requirement already satisfied: xxhash in /home/newdisk/jxh/anaconda/envs/sft2/lib/python3.10/site-packages (from evaluate) (3.4.1)\n",
      "Requirement already satisfied: multiprocess in /home/newdisk/jxh/anaconda/envs/sft2/lib/python3.10/site-packages (from evaluate) (0.70.16)\n",
      "Requirement already satisfied: fsspec>=2021.05.0 in /home/newdisk/jxh/anaconda/envs/sft2/lib/python3.10/site-packages (from fsspec[http]>=2021.05.0->evaluate) (2024.2.0)\n",
      "Requirement already satisfied: huggingface-hub>=0.7.0 in /home/newdisk/jxh/anaconda/envs/sft2/lib/python3.10/site-packages (from evaluate) (0.23.5)\n",
      "Requirement already satisfied: packaging in /home/newdisk/jxh/anaconda/envs/sft2/lib/python3.10/site-packages (from evaluate) (24.1)\n",
      "Requirement already satisfied: click in /home/newdisk/jxh/anaconda/envs/sft2/lib/python3.10/site-packages (from nltk) (8.1.7)\n",
      "Requirement already satisfied: joblib in /home/newdisk/jxh/anaconda/envs/sft2/lib/python3.10/site-packages (from nltk) (1.4.2)\n",
      "Requirement already satisfied: regex>=2021.8.3 in /home/newdisk/jxh/anaconda/envs/sft2/lib/python3.10/site-packages (from nltk) (2024.5.15)\n",
      "Requirement already satisfied: six>=1.14.0 in /home/newdisk/jxh/anaconda/envs/sft2/lib/python3.10/site-packages (from rouge_score) (1.16.0)\n",
      "Requirement already satisfied: filelock in /home/newdisk/jxh/anaconda/envs/sft2/lib/python3.10/site-packages (from datasets>=2.0.0->evaluate) (3.13.1)\n",
      "Requirement already satisfied: pyarrow>=15.0.0 in /home/newdisk/jxh/anaconda/envs/sft2/lib/python3.10/site-packages (from datasets>=2.0.0->evaluate) (17.0.0)\n",
      "Requirement already satisfied: pyarrow-hotfix in /home/newdisk/jxh/anaconda/envs/sft2/lib/python3.10/site-packages (from datasets>=2.0.0->evaluate) (0.6)\n",
      "Requirement already satisfied: aiohttp in /home/newdisk/jxh/anaconda/envs/sft2/lib/python3.10/site-packages (from datasets>=2.0.0->evaluate) (3.9.5)\n",
      "Requirement already satisfied: pyyaml>=5.1 in /home/newdisk/jxh/anaconda/envs/sft2/lib/python3.10/site-packages (from datasets>=2.0.0->evaluate) (6.0.1)\n",
      "Requirement already satisfied: typing-extensions>=3.7.4.3 in /home/newdisk/jxh/anaconda/envs/sft2/lib/python3.10/site-packages (from huggingface-hub>=0.7.0->evaluate) (4.12.2)\n",
      "Requirement already satisfied: charset-normalizer<4,>=2 in /home/newdisk/jxh/anaconda/envs/sft2/lib/python3.10/site-packages (from requests>=2.19.0->evaluate) (3.3.2)\n",
      "Requirement already satisfied: idna<4,>=2.5 in /home/newdisk/jxh/anaconda/envs/sft2/lib/python3.10/site-packages (from requests>=2.19.0->evaluate) (3.7)\n",
      "Requirement already satisfied: urllib3<3,>=1.21.1 in /home/newdisk/jxh/anaconda/envs/sft2/lib/python3.10/site-packages (from requests>=2.19.0->evaluate) (2.2.2)\n",
      "Requirement already satisfied: certifi>=2017.4.17 in /home/newdisk/jxh/anaconda/envs/sft2/lib/python3.10/site-packages (from requests>=2.19.0->evaluate) (2024.7.4)\n",
      "Requirement already satisfied: python-dateutil>=2.8.2 in /home/newdisk/jxh/anaconda/envs/sft2/lib/python3.10/site-packages (from pandas->evaluate) (2.9.0)\n",
      "Requirement already satisfied: pytz>=2020.1 in /home/newdisk/jxh/anaconda/envs/sft2/lib/python3.10/site-packages (from pandas->evaluate) (2024.1)\n",
      "Requirement already satisfied: tzdata>=2022.7 in /home/newdisk/jxh/anaconda/envs/sft2/lib/python3.10/site-packages (from pandas->evaluate) (2024.1)\n",
      "Requirement already satisfied: aiosignal>=1.1.2 in /home/newdisk/jxh/anaconda/envs/sft2/lib/python3.10/site-packages (from aiohttp->datasets>=2.0.0->evaluate) (1.3.1)\n",
      "Requirement already satisfied: attrs>=17.3.0 in /home/newdisk/jxh/anaconda/envs/sft2/lib/python3.10/site-packages (from aiohttp->datasets>=2.0.0->evaluate) (23.2.0)\n",
      "Requirement already satisfied: frozenlist>=1.1.1 in /home/newdisk/jxh/anaconda/envs/sft2/lib/python3.10/site-packages (from aiohttp->datasets>=2.0.0->evaluate) (1.4.1)\n",
      "Requirement already satisfied: multidict<7.0,>=4.5 in /home/newdisk/jxh/anaconda/envs/sft2/lib/python3.10/site-packages (from aiohttp->datasets>=2.0.0->evaluate) (6.0.5)\n",
      "Requirement already satisfied: yarl<2.0,>=1.0 in /home/newdisk/jxh/anaconda/envs/sft2/lib/python3.10/site-packages (from aiohttp->datasets>=2.0.0->evaluate) (1.9.4)\n",
      "Requirement already satisfied: async-timeout<5.0,>=4.0 in /home/newdisk/jxh/anaconda/envs/sft2/lib/python3.10/site-packages (from aiohttp->datasets>=2.0.0->evaluate) (4.0.3)\n"
     ]
    }
   ],
   "source": [
    "!pip install -U evaluate nltk rouge_score absl-py"
   ]
  },
  {
   "cell_type": "code",
   "execution_count": 1,
   "metadata": {},
   "outputs": [
    {
     "name": "stderr",
     "output_type": "stream",
     "text": [
      "/home/newdisk/jxh/anaconda/envs/sft2/lib/python3.10/site-packages/tqdm/auto.py:21: TqdmWarning: IProgress not found. Please update jupyter and ipywidgets. See https://ipywidgets.readthedocs.io/en/stable/user_install.html\n",
      "  from .autonotebook import tqdm as notebook_tqdm\n"
     ]
    }
   ],
   "source": [
    "import evaluate\n",
    "import torch\n",
    "import transformers\n",
    "from typing import Dict\n",
    "from collections import defaultdict\n",
    "from transformers import AutoModelForCausalLM, AutoTokenizer\n",
    "from peft import get_peft_model, LoraConfig, TaskType, PeftModel,PeftConfig\n",
    "from sklearn.metrics import precision_recall_fscore_support, accuracy_score\n",
    "from datasets import load_dataset, load_from_disk"
   ]
  },
  {
   "cell_type": "code",
   "execution_count": 2,
   "metadata": {},
   "outputs": [
    {
     "name": "stderr",
     "output_type": "stream",
     "text": [
      "The `load_in_4bit` and `load_in_8bit` arguments are deprecated and will be removed in the future versions. Please, pass a `BitsAndBytesConfig` object in `quantization_config` argument instead.\n"
     ]
    }
   ],
   "source": [
    "model_id= \"../base/qwen/Qwen2-0_5B-Instruct\"\n",
    "tokenizer = AutoTokenizer.from_pretrained(model_id, use_fast=False, trust_remote_code=True)\n",
    "model = AutoModelForCausalLM.from_pretrained(model_id, device_map=\"auto\", torch_dtype=torch.float16, load_in_8bit=True, trust_remote_code=True)"
   ]
  },
  {
   "cell_type": "code",
   "execution_count": 3,
   "metadata": {},
   "outputs": [],
   "source": [
    "data = load_from_disk(\"../outputs/final/Qwen2-0_5B-instruct-lora/eval_data\")"
   ]
  },
  {
   "cell_type": "code",
   "execution_count": 4,
   "metadata": {},
   "outputs": [],
   "source": [
    "refs = data[\"output\"]\n",
    "messages = data.map(lambda example: {\"message\": [{\"role\": \"system\", \"content\": \"为下面的新闻生成摘要\"},{\"role\": \"user\", \"content\": example[\"input\"]}]})[\"message\"]"
   ]
  },
  {
   "cell_type": "code",
   "execution_count": 5,
   "metadata": {},
   "outputs": [],
   "source": [
    "preds = []\n",
    "for message in messages:\n",
    "    text = tokenizer.apply_chat_template(\n",
    "        message,\n",
    "        tokenize=False,\n",
    "        add_generation_prompt=True\n",
    "    )\n",
    "    model_inputs = tokenizer([text], return_tensors=\"pt\").to(model.device)\n",
    "\n",
    "    generated_ids = model.generate(\n",
    "        **model_inputs,\n",
    "        max_new_tokens=512\n",
    "    )\n",
    "    generated_ids = [\n",
    "        output_ids[len(input_ids):] for input_ids, output_ids in zip(model_inputs.input_ids, generated_ids)\n",
    "    ]\n",
    "    response = tokenizer.batch_decode(generated_ids, skip_special_tokens=True)[0]\n",
    "    preds.append(response)"
   ]
  },
  {
   "cell_type": "code",
   "execution_count": 12,
   "metadata": {},
   "outputs": [
    {
     "name": "stdout",
     "output_type": "stream",
     "text": [
      "load done\n",
      "ROUGE: {'rouge1': 0.06666666666666667, 'rouge2': 0.0, 'rougeL': 0.06666666666666667, 'rougeLsum': 0.06666666666666667}\n",
      "BLEU: {'bleu': 0.0, 'precisions': [0.0, 0.0, 0.0, 0.0], 'brevity_penalty': 1.0, 'length_ratio': 1.8666666666666667, 'translation_length': 28, 'reference_length': 15}\n"
     ]
    }
   ],
   "source": [
    "import sys\n",
    "sys.path.append(\"..\")\n",
    "from metrics.bleu.bleu import Bleu\n",
    "from metrics.rouge.rouge import Rouge\n",
    "\n",
    "# Calculate BLEU and ROUGE\n",
    "rouge = evaluate.load(\"../metrics/rouge\")\n",
    "bleu = Bleu()\n",
    "print(\"load done\")\n",
    "result_rouge = rouge.compute(predictions=preds, references=refs)\n",
    "result_bleu = bleu.compute(predictions=preds, references=refs)\n",
    "\n",
    "print(\"ROUGE:\", result_rouge)\n",
    "print(\"BLEU:\", result_bleu)"
   ]
  },
  {
   "cell_type": "code",
   "execution_count": 10,
   "metadata": {},
   "outputs": [
    {
     "data": {
      "text/plain": [
       "['瑞信亚太区私人银行董事总经理、大中华区副主席陶冬对经济前景持乐观态度。预计经济增长率在3.4%-4%，明年初将出现小幅调整。未来半年内，美元仍不会大幅走强，并且短期内不太可能有大的行情，整体上美元汇率将处于90到93的震荡区间。',\n",
       " '优步宣布推出新订阅服务 All-Access Plan 初始覆盖洛杉矶、奥斯汀、奥兰多、丹佛和迈阿密',\n",
       " '随着互联网存款产品业务全面停摆，多家中小银行开始与互联网平台开展金融服务合作。一些银行希望通过将互联网存款产品引入零售业务智能化线上化服务，以及利用合规性手段推进脱敏化的数据合作，减轻监管压力，以期顺利转为传统意义上的个人理财代理业务。',\n",
       " '美国在特朗普就任美国总统后，宣布对中国发起贸易战，中、美关系再次面临新的挑战。',\n",
       " '国内女科高危感染防控新战线开炮：国产四价HPV疫苗有望在2019年上市']"
      ]
     },
     "execution_count": 10,
     "metadata": {},
     "output_type": "execute_result"
    }
   ],
   "source": [
    "preds[:5]\n"
   ]
  },
  {
   "cell_type": "code",
   "execution_count": 13,
   "metadata": {},
   "outputs": [
    {
     "data": {
      "text/plain": [
       "['陶冬：全球经济正经历发展小顶峰，缓慢加息是美国经济主旋律',\n",
       " '优步推出订阅服务 价值14.99美元',\n",
       " '部分银行希冀将互联网存款产品销售纳入其业务范畴',\n",
       " '中国之声：一纸任性征税清单 三轮经贸磋商归零',\n",
       " '智飞生物：四价HPV疫苗存在“抢苗”现象 未来供应不成问题']"
      ]
     },
     "execution_count": 13,
     "metadata": {},
     "output_type": "execute_result"
    }
   ],
   "source": [
    "refs[:5]"
   ]
  }
 ],
 "metadata": {
  "kernelspec": {
   "display_name": "sft2",
   "language": "python",
   "name": "python3"
  },
  "language_info": {
   "codemirror_mode": {
    "name": "ipython",
    "version": 3
   },
   "file_extension": ".py",
   "mimetype": "text/x-python",
   "name": "python",
   "nbconvert_exporter": "python",
   "pygments_lexer": "ipython3",
   "version": "3.10.14"
  },
  "orig_nbformat": 4
 },
 "nbformat": 4,
 "nbformat_minor": 2
}
