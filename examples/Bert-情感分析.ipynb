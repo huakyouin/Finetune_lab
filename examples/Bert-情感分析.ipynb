{
 "cells": [
  {
   "cell_type": "code",
   "execution_count": 1,
   "id": "891b5e34",
   "metadata": {},
   "outputs": [
    {
     "name": "stderr",
     "output_type": "stream",
     "text": [
      "/home/newdisk/jxh/anaconda/envs/sft2/lib/python3.10/site-packages/tqdm/auto.py:21: TqdmWarning: IProgress not found. Please update jupyter and ipywidgets. See https://ipywidgets.readthedocs.io/en/stable/user_install.html\n",
      "  from .autonotebook import tqdm as notebook_tqdm\n"
     ]
    }
   ],
   "source": [
    "import collections\n",
    "\n",
    "import datasets\n",
    "import matplotlib.pyplot as plt\n",
    "import numpy as np\n",
    "import torch\n",
    "import torch.nn as nn\n",
    "import torch.optim as optim\n",
    "import tqdm\n",
    "import transformers\n",
    "\n",
    "from sklearn.metrics import precision_score,recall_score,f1_score\n",
    "\n",
    "import sys\n",
    "sys.path.append(\"..\")\n",
    "\n",
    "import os\n",
    "import uuid"
   ]
  },
  {
   "cell_type": "code",
   "execution_count": 2,
   "id": "895ef909",
   "metadata": {},
   "outputs": [],
   "source": [
    "seed = 1234\n",
    "\n",
    "np.random.seed(seed)\n",
    "torch.manual_seed(seed)\n",
    "torch.cuda.manual_seed(seed)\n",
    "torch.backends.cudnn.deterministic = True"
   ]
  },
  {
   "cell_type": "code",
   "execution_count": 3,
   "id": "d0a1e49f",
   "metadata": {},
   "outputs": [],
   "source": [
    "transformer_name = '../models/finbert'\n",
    "\n",
    "tokenizer = transformers.AutoTokenizer.from_pretrained(transformer_name)\n",
    "## usage：\n",
    "# tokenizer(\"hello world!\")\n",
    "# tokenizer.tokenize(\"hello world!\")\n",
    "# tokenizer.encode(\"hello world!\")\n",
    "# tokenizer.convert_ids_to_tokens(tokenizer.encode(\"hello world\"))"
   ]
  },
  {
   "cell_type": "code",
   "execution_count": 4,
   "id": "6c839ee6",
   "metadata": {},
   "outputs": [
    {
     "name": "stderr",
     "output_type": "stream",
     "text": [
      "Repo card metadata block was not found. Setting CardData to empty.\n"
     ]
    },
    {
     "data": {
      "text/plain": [
       "{'Unnamed: 0': 0,\n",
       " '日期': '2019年2月14日',\n",
       " '公司': '盛运环保',\n",
       " '代码': 300090,\n",
       " '正负面': 0,\n",
       " '标题': '盛运环保：37.48亿元到期债务未清偿',\n",
       " '正文': '盛运环保2月13日晚间发布公告称，截至目前，共有37.48亿元到期债务未清偿。'}"
      ]
     },
     "execution_count": 4,
     "metadata": {},
     "output_type": "execute_result"
    }
   ],
   "source": [
    "dataset = datasets.load_dataset(\"../data/finan_news_senti_data\", split=[\"train\", \"test\"])\n",
    "dataset[0][0]"
   ]
  },
  {
   "cell_type": "code",
   "execution_count": 5,
   "id": "d0259875",
   "metadata": {},
   "outputs": [],
   "source": [
    "# 筛选\n",
    "# dataset = [part_data.filter(lambda example: example[\"task\"]==\"FINFE\" and (\"积极\" in example[\"output\"] or \"消极\" in example[\"output\"]) for part_data in dataset]\n",
    "\n",
    "# input生成\n",
    "def tokenize_and_numericalize_example(example, tokenizer):\n",
    "    ids = tokenizer(example[\"正文\"], truncation=True)[\"input_ids\"]\n",
    "    return {\"ids\": ids, \"label\": example['正负面']}\n",
    "\n",
    "train_data = dataset[0].map(\n",
    "    tokenize_and_numericalize_example, fn_kwargs={\"tokenizer\": tokenizer}\n",
    ")\n",
    "test_data = dataset[1].map(\n",
    "    tokenize_and_numericalize_example, fn_kwargs={\"tokenizer\": tokenizer}\n",
    ")"
   ]
  },
  {
   "cell_type": "code",
   "execution_count": 6,
   "id": "3cdaa10f",
   "metadata": {},
   "outputs": [],
   "source": [
    "pad_index = tokenizer.pad_token_id"
   ]
  },
  {
   "cell_type": "code",
   "execution_count": 7,
   "id": "8532b705",
   "metadata": {},
   "outputs": [],
   "source": [
    "test_size = 0.25\n",
    "\n",
    "train_valid_data = train_data.train_test_split(test_size=test_size)\n",
    "train_data = train_valid_data[\"train\"]\n",
    "valid_data = train_valid_data[\"test\"]"
   ]
  },
  {
   "cell_type": "code",
   "execution_count": 8,
   "id": "cc54e1eb",
   "metadata": {},
   "outputs": [],
   "source": [
    "train_data = train_data.with_format(type=\"torch\", columns=[\"ids\", \"label\"])\n",
    "valid_data = valid_data.with_format(type=\"torch\", columns=[\"ids\", \"label\"])\n",
    "test_data = test_data.with_format(type=\"torch\", columns=[\"ids\", \"label\"])"
   ]
  },
  {
   "cell_type": "code",
   "execution_count": 9,
   "id": "bea43ba0",
   "metadata": {},
   "outputs": [],
   "source": [
    "def get_collate_fn(pad_index):\n",
    "    def collate_fn(batch):\n",
    "        batch_ids = [i[\"ids\"] for i in batch]\n",
    "        batch_ids = nn.utils.rnn.pad_sequence(\n",
    "            batch_ids, padding_value=pad_index, batch_first=True\n",
    "        )\n",
    "        batch_label = [i[\"label\"] for i in batch]\n",
    "        batch_label = torch.stack(batch_label)\n",
    "        batch = {\"ids\": batch_ids, \"label\": batch_label}\n",
    "        return batch\n",
    "\n",
    "    return collate_fn"
   ]
  },
  {
   "cell_type": "code",
   "execution_count": 10,
   "id": "ea2176bb",
   "metadata": {},
   "outputs": [],
   "source": [
    "def get_data_loader(dataset, batch_size, pad_index, shuffle=False):\n",
    "    collate_fn = get_collate_fn(pad_index)\n",
    "    data_loader = torch.utils.data.DataLoader(\n",
    "        dataset=dataset,\n",
    "        batch_size=batch_size,\n",
    "        collate_fn=collate_fn,\n",
    "        shuffle=shuffle,\n",
    "    )\n",
    "    return data_loader"
   ]
  },
  {
   "cell_type": "code",
   "execution_count": 11,
   "id": "dce162ba",
   "metadata": {},
   "outputs": [],
   "source": [
    "batch_size = 8\n",
    "\n",
    "train_data_loader = get_data_loader(train_data, batch_size, pad_index, shuffle=True)\n",
    "valid_data_loader = get_data_loader(valid_data, batch_size, pad_index)\n",
    "test_data_loader = get_data_loader(test_data, batch_size, pad_index)"
   ]
  },
  {
   "cell_type": "code",
   "execution_count": 12,
   "id": "01a637ac",
   "metadata": {},
   "outputs": [],
   "source": [
    "class Transformer(nn.Module):\n",
    "    def __init__(self, transformer, output_dim, freeze):\n",
    "        super().__init__()\n",
    "        self.transformer = transformer\n",
    "        hidden_dim = transformer.config.hidden_size\n",
    "        self.fc = nn.Linear(hidden_dim, output_dim)\n",
    "        if freeze:\n",
    "            for param in self.transformer.parameters():\n",
    "                param.requires_grad = False\n",
    "\n",
    "    def forward(self, ids, attention_mask=None):\n",
    "        # ids = [batch size, seq len]\n",
    "        output = self.transformer(ids, output_attentions=False, attention_mask = attention_mask)\n",
    "        hidden = output.last_hidden_state\n",
    "        # hidden = [batch size, seq len, hidden dim]\n",
    "        # attention = output.attentions[-1]\n",
    "        # attention = [batch size, n heads, seq len, seq len]\n",
    "        cls_hidden = hidden[:, 0, :]\n",
    "        prediction = self.fc(torch.tanh(cls_hidden))\n",
    "        # prediction = [batch size, output dim]\n",
    "        return prediction"
   ]
  },
  {
   "cell_type": "code",
   "execution_count": 13,
   "id": "ff995192",
   "metadata": {},
   "outputs": [],
   "source": [
    "output_dim = 2\n",
    "freeze = True\n",
    "transformer = transformers.AutoModel.from_pretrained(transformer_name)\n",
    "model = Transformer(transformer, output_dim, freeze)"
   ]
  },
  {
   "cell_type": "code",
   "execution_count": 14,
   "id": "f15efc07",
   "metadata": {},
   "outputs": [
    {
     "name": "stdout",
     "output_type": "stream",
     "text": [
      "The model has 1,538 trainable parameters\n"
     ]
    }
   ],
   "source": [
    "def count_parameters(model):\n",
    "    return sum(p.numel() for p in model.parameters() if p.requires_grad)\n",
    "print(f\"The model has {count_parameters(model):,} trainable parameters\")"
   ]
  },
  {
   "cell_type": "code",
   "execution_count": 15,
   "id": "98f54638",
   "metadata": {},
   "outputs": [],
   "source": [
    "def train(data_loader, model, criterion, optimizer, device,scheduler=None):\n",
    "    model.train()\n",
    "    epoch_losses = []\n",
    "    epoch_accs = []\n",
    "    for batch in tqdm.tqdm(data_loader, desc=\"training...\"):\n",
    "        ids = batch[\"ids\"].to(device)\n",
    "        label = batch[\"label\"].to(device)\n",
    "        attention_mask = (ids != pad_index).float().to(device)  # 生成attention_mask\n",
    "        # print(ids.shape,attention_mask.shape)\n",
    "        prediction = model(ids,attention_mask=attention_mask)\n",
    "        loss = criterion(prediction, label)\n",
    "        accuracy = get_accuracy(prediction, label)\n",
    "        optimizer.zero_grad()\n",
    "        loss.backward()\n",
    "        optimizer.step()\n",
    "        if scheduler!=None:\n",
    "            scheduler.step()\n",
    "        epoch_losses.append(loss.item())\n",
    "        epoch_accs.append(accuracy.item())\n",
    "        \n",
    "    return np.mean(epoch_losses), np.mean(epoch_accs)"
   ]
  },
  {
   "cell_type": "code",
   "execution_count": 16,
   "id": "df0424bd",
   "metadata": {},
   "outputs": [],
   "source": [
    "def evaluate(data_loader, model, criterion, device):\n",
    "    model.eval()\n",
    "    epoch_losses = []\n",
    "    epoch_accs = []\n",
    "    all_labels = []\n",
    "    all_predictions = []\n",
    "    with torch.no_grad():\n",
    "        for batch in tqdm.tqdm(data_loader, desc=\"evaluating...\"):\n",
    "            ids = batch[\"ids\"].to(device)\n",
    "            label = batch[\"label\"].to(device)\n",
    "            attention_mask = (ids != pad_index).float().to(device)  # 生成attention_mask\n",
    "            prediction = model(ids,attention_mask=attention_mask)\n",
    "            loss = criterion(prediction, label)\n",
    "            accuracy = get_accuracy(prediction, label)\n",
    "            epoch_losses.append(loss.item())\n",
    "            epoch_accs.append(accuracy.item())\n",
    "            all_labels.extend(label.cpu().numpy())\n",
    "            all_predictions.extend(torch.argmax(prediction, dim=1).cpu().numpy())\n",
    "    \n",
    "    f1 = f1_score(all_labels, all_predictions, average='weighted')\n",
    "    return np.mean(epoch_losses), np.mean(epoch_accs), f1"
   ]
  },
  {
   "cell_type": "code",
   "execution_count": 17,
   "id": "34331854",
   "metadata": {},
   "outputs": [],
   "source": [
    "def get_accuracy(prediction, label):\n",
    "    batch_size, _ = prediction.shape\n",
    "    predicted_classes = prediction.argmax(dim=-1)\n",
    "    correct_predictions = predicted_classes.eq(label).sum()\n",
    "    accuracy = correct_predictions / batch_size\n",
    "    return accuracy"
   ]
  },
  {
   "cell_type": "code",
   "execution_count": 18,
   "id": "a1829f19",
   "metadata": {},
   "outputs": [],
   "source": [
    "def save_checkpoints(model,path,file_name,uid):\n",
    "    torch.save(model.state_dict(), os.path.join(path,uid+\"_\"+file_name))"
   ]
  },
  {
   "cell_type": "code",
   "execution_count": 19,
   "id": "1ed7f815",
   "metadata": {},
   "outputs": [],
   "source": [
    "# 超参数\n",
    "metrics = collections.defaultdict(list)     \n",
    "lr = 2e-5\n",
    "optimizer = optim.AdamW(model.parameters(), lr=lr)\n",
    "criterion = nn.CrossEntropyLoss()   # nn.CrossEntropyLoss()  nn.MSELoss()      \n",
    "n_epochs = 50\n",
    "def rule(epoch):\n",
    "    return epoch / 5 if epoch<=5 else 0.96 ** epoch\n",
    "scheduler = torch.optim.lr_scheduler.LambdaLR(optimizer, lr_lambda=rule) # 选定调整方法\n",
    "best_valid_loss = float(\"inf\") \n",
    "uid = str(uuid.uuid4())"
   ]
  },
  {
   "cell_type": "code",
   "execution_count": null,
   "id": "6fc62ff8",
   "metadata": {},
   "outputs": [],
   "source": [
    "device = torch.device(\"cuda\" if torch.cuda.is_available() else \"cpu\")\n",
    "model = model.to(device)\n",
    "criterion = criterion.to(device)"
   ]
  },
  {
   "cell_type": "code",
   "execution_count": null,
   "id": "df33ac5d",
   "metadata": {},
   "outputs": [
    {
     "name": "stderr",
     "output_type": "stream",
     "text": [
      "training...: 100%|██████████| 1288/1288 [00:49<00:00, 26.18it/s]\n",
      "evaluating...: 100%|██████████| 430/430 [00:16<00:00, 26.13it/s]\n"
     ]
    },
    {
     "name": "stdout",
     "output_type": "stream",
     "text": [
      "epoch: 0\n",
      "train_loss: 0.654, train_acc: 0.633\n",
      "valid_loss: 0.593, valid_acc: 0.765\n",
      "valid_f1: 0.765\n"
     ]
    },
    {
     "name": "stderr",
     "output_type": "stream",
     "text": [
      "training...: 100%|██████████| 1288/1288 [00:49<00:00, 26.16it/s]\n",
      "evaluating...: 100%|██████████| 430/430 [00:16<00:00, 26.11it/s]\n"
     ]
    },
    {
     "name": "stdout",
     "output_type": "stream",
     "text": [
      "epoch: 1\n",
      "train_loss: 0.576, train_acc: 0.763\n",
      "valid_loss: 0.531, valid_acc: 0.802\n",
      "valid_f1: 0.802\n"
     ]
    },
    {
     "name": "stderr",
     "output_type": "stream",
     "text": [
      "training...: 100%|██████████| 1288/1288 [00:48<00:00, 26.29it/s]\n",
      "evaluating...: 100%|██████████| 430/430 [00:16<00:00, 26.11it/s]\n"
     ]
    },
    {
     "name": "stdout",
     "output_type": "stream",
     "text": [
      "epoch: 2\n",
      "train_loss: 0.532, train_acc: 0.784\n",
      "valid_loss: 0.492, valid_acc: 0.817\n",
      "valid_f1: 0.817\n"
     ]
    },
    {
     "name": "stderr",
     "output_type": "stream",
     "text": [
      "training...: 100%|██████████| 1288/1288 [00:48<00:00, 26.59it/s]\n",
      "evaluating...: 100%|██████████| 430/430 [00:16<00:00, 26.11it/s]\n"
     ]
    },
    {
     "name": "stdout",
     "output_type": "stream",
     "text": [
      "epoch: 3\n",
      "train_loss: 0.499, train_acc: 0.800\n",
      "valid_loss: 0.465, valid_acc: 0.823\n",
      "valid_f1: 0.824\n"
     ]
    },
    {
     "name": "stderr",
     "output_type": "stream",
     "text": [
      "training...: 100%|██████████| 1288/1288 [00:48<00:00, 26.33it/s]\n",
      "evaluating...: 100%|██████████| 430/430 [00:16<00:00, 26.08it/s]\n"
     ]
    },
    {
     "name": "stdout",
     "output_type": "stream",
     "text": [
      "epoch: 4\n",
      "train_loss: 0.478, train_acc: 0.808\n",
      "valid_loss: 0.444, valid_acc: 0.834\n",
      "valid_f1: 0.835\n"
     ]
    },
    {
     "name": "stderr",
     "output_type": "stream",
     "text": [
      "training...: 100%|██████████| 1288/1288 [00:49<00:00, 26.22it/s]\n",
      "evaluating...: 100%|██████████| 430/430 [00:16<00:00, 26.09it/s]\n"
     ]
    },
    {
     "name": "stdout",
     "output_type": "stream",
     "text": [
      "epoch: 5\n",
      "train_loss: 0.462, train_acc: 0.813\n",
      "valid_loss: 0.430, valid_acc: 0.839\n",
      "valid_f1: 0.840\n"
     ]
    },
    {
     "name": "stderr",
     "output_type": "stream",
     "text": [
      "training...: 100%|██████████| 1288/1288 [00:49<00:00, 26.17it/s]\n",
      "evaluating...: 100%|██████████| 430/430 [00:16<00:00, 26.12it/s]\n"
     ]
    },
    {
     "name": "stdout",
     "output_type": "stream",
     "text": [
      "epoch: 6\n",
      "train_loss: 0.445, train_acc: 0.818\n",
      "valid_loss: 0.417, valid_acc: 0.845\n",
      "valid_f1: 0.846\n"
     ]
    },
    {
     "name": "stderr",
     "output_type": "stream",
     "text": [
      "training...: 100%|██████████| 1288/1288 [00:48<00:00, 26.78it/s]\n",
      "evaluating...: 100%|██████████| 430/430 [00:16<00:00, 26.09it/s]\n"
     ]
    },
    {
     "name": "stdout",
     "output_type": "stream",
     "text": [
      "epoch: 7\n",
      "train_loss: 0.436, train_acc: 0.818\n",
      "valid_loss: 0.407, valid_acc: 0.850\n",
      "valid_f1: 0.850\n"
     ]
    },
    {
     "name": "stderr",
     "output_type": "stream",
     "text": [
      "training...: 100%|██████████| 1288/1288 [00:49<00:00, 26.11it/s]\n",
      "evaluating...: 100%|██████████| 430/430 [00:16<00:00, 26.09it/s]\n"
     ]
    },
    {
     "name": "stdout",
     "output_type": "stream",
     "text": [
      "epoch: 8\n",
      "train_loss: 0.429, train_acc: 0.828\n",
      "valid_loss: 0.399, valid_acc: 0.851\n",
      "valid_f1: 0.852\n"
     ]
    },
    {
     "name": "stderr",
     "output_type": "stream",
     "text": [
      "training...: 100%|██████████| 1288/1288 [00:48<00:00, 26.39it/s]\n",
      "evaluating...: 100%|██████████| 430/430 [00:16<00:00, 26.10it/s]\n"
     ]
    },
    {
     "name": "stdout",
     "output_type": "stream",
     "text": [
      "epoch: 9\n",
      "train_loss: 0.424, train_acc: 0.823\n",
      "valid_loss: 0.392, valid_acc: 0.854\n",
      "valid_f1: 0.855\n"
     ]
    },
    {
     "name": "stderr",
     "output_type": "stream",
     "text": [
      "training...: 100%|██████████| 1288/1288 [00:49<00:00, 26.16it/s]\n",
      "evaluating...: 100%|██████████| 430/430 [00:16<00:00, 26.13it/s]\n"
     ]
    },
    {
     "name": "stdout",
     "output_type": "stream",
     "text": [
      "epoch: 10\n",
      "train_loss: 0.411, train_acc: 0.835\n",
      "valid_loss: 0.386, valid_acc: 0.855\n",
      "valid_f1: 0.856\n"
     ]
    },
    {
     "name": "stderr",
     "output_type": "stream",
     "text": [
      "training...: 100%|██████████| 1288/1288 [00:49<00:00, 26.00it/s]\n",
      "evaluating...: 100%|██████████| 430/430 [00:16<00:00, 26.10it/s]\n"
     ]
    },
    {
     "name": "stdout",
     "output_type": "stream",
     "text": [
      "epoch: 11\n",
      "train_loss: 0.407, train_acc: 0.834\n",
      "valid_loss: 0.381, valid_acc: 0.858\n",
      "valid_f1: 0.858\n"
     ]
    },
    {
     "name": "stderr",
     "output_type": "stream",
     "text": [
      "training...: 100%|██████████| 1288/1288 [00:48<00:00, 26.34it/s]\n",
      "evaluating...: 100%|██████████| 430/430 [00:16<00:00, 26.11it/s]\n"
     ]
    },
    {
     "name": "stdout",
     "output_type": "stream",
     "text": [
      "epoch: 12\n",
      "train_loss: 0.406, train_acc: 0.832\n",
      "valid_loss: 0.377, valid_acc: 0.859\n",
      "valid_f1: 0.860\n"
     ]
    },
    {
     "name": "stderr",
     "output_type": "stream",
     "text": [
      "training...: 100%|██████████| 1288/1288 [00:49<00:00, 26.06it/s]\n",
      "evaluating...: 100%|██████████| 430/430 [00:16<00:00, 26.10it/s]\n"
     ]
    },
    {
     "name": "stdout",
     "output_type": "stream",
     "text": [
      "epoch: 13\n",
      "train_loss: 0.400, train_acc: 0.838\n",
      "valid_loss: 0.374, valid_acc: 0.861\n",
      "valid_f1: 0.861\n"
     ]
    },
    {
     "name": "stderr",
     "output_type": "stream",
     "text": [
      "training...: 100%|██████████| 1288/1288 [00:48<00:00, 26.36it/s]\n",
      "evaluating...: 100%|██████████| 430/430 [00:16<00:00, 26.13it/s]\n"
     ]
    },
    {
     "name": "stdout",
     "output_type": "stream",
     "text": [
      "epoch: 14\n",
      "train_loss: 0.396, train_acc: 0.838\n",
      "valid_loss: 0.369, valid_acc: 0.863\n",
      "valid_f1: 0.863\n"
     ]
    },
    {
     "name": "stderr",
     "output_type": "stream",
     "text": [
      "training...: 100%|██████████| 1288/1288 [00:48<00:00, 26.35it/s]\n",
      "evaluating...: 100%|██████████| 430/430 [00:16<00:00, 26.09it/s]\n"
     ]
    },
    {
     "name": "stdout",
     "output_type": "stream",
     "text": [
      "epoch: 15\n",
      "train_loss: 0.393, train_acc: 0.835\n",
      "valid_loss: 0.365, valid_acc: 0.865\n",
      "valid_f1: 0.865\n"
     ]
    },
    {
     "name": "stderr",
     "output_type": "stream",
     "text": [
      "training...: 100%|██████████| 1288/1288 [00:48<00:00, 26.30it/s]\n",
      "evaluating...: 100%|██████████| 430/430 [00:16<00:00, 26.09it/s]\n"
     ]
    },
    {
     "name": "stdout",
     "output_type": "stream",
     "text": [
      "epoch: 16\n",
      "train_loss: 0.390, train_acc: 0.839\n",
      "valid_loss: 0.363, valid_acc: 0.864\n",
      "valid_f1: 0.865\n"
     ]
    },
    {
     "name": "stderr",
     "output_type": "stream",
     "text": [
      "training...: 100%|██████████| 1288/1288 [00:49<00:00, 26.03it/s]\n",
      "evaluating...: 100%|██████████| 430/430 [00:16<00:00, 26.09it/s]\n"
     ]
    },
    {
     "name": "stdout",
     "output_type": "stream",
     "text": [
      "epoch: 17\n",
      "train_loss: 0.387, train_acc: 0.842\n",
      "valid_loss: 0.359, valid_acc: 0.866\n",
      "valid_f1: 0.867\n"
     ]
    },
    {
     "name": "stderr",
     "output_type": "stream",
     "text": [
      "training...: 100%|██████████| 1288/1288 [00:49<00:00, 25.83it/s]\n",
      "evaluating...: 100%|██████████| 430/430 [00:16<00:00, 26.11it/s]\n"
     ]
    },
    {
     "name": "stdout",
     "output_type": "stream",
     "text": [
      "epoch: 18\n",
      "train_loss: 0.380, train_acc: 0.844\n",
      "valid_loss: 0.357, valid_acc: 0.866\n",
      "valid_f1: 0.867\n"
     ]
    },
    {
     "name": "stderr",
     "output_type": "stream",
     "text": [
      "training...: 100%|██████████| 1288/1288 [00:49<00:00, 25.82it/s]\n",
      "evaluating...: 100%|██████████| 430/430 [00:16<00:00, 26.12it/s]\n"
     ]
    },
    {
     "name": "stdout",
     "output_type": "stream",
     "text": [
      "epoch: 19\n",
      "train_loss: 0.378, train_acc: 0.844\n",
      "valid_loss: 0.355, valid_acc: 0.867\n",
      "valid_f1: 0.867\n"
     ]
    },
    {
     "name": "stderr",
     "output_type": "stream",
     "text": [
      "training...: 100%|██████████| 1288/1288 [00:49<00:00, 26.02it/s]\n",
      "evaluating...: 100%|██████████| 430/430 [00:16<00:00, 26.12it/s]\n"
     ]
    },
    {
     "name": "stdout",
     "output_type": "stream",
     "text": [
      "epoch: 20\n",
      "train_loss: 0.379, train_acc: 0.846\n",
      "valid_loss: 0.352, valid_acc: 0.869\n",
      "valid_f1: 0.870\n"
     ]
    },
    {
     "name": "stderr",
     "output_type": "stream",
     "text": [
      "training...: 100%|██████████| 1288/1288 [00:49<00:00, 26.03it/s]\n",
      "evaluating...: 100%|██████████| 430/430 [00:16<00:00, 26.12it/s]\n"
     ]
    },
    {
     "name": "stdout",
     "output_type": "stream",
     "text": [
      "epoch: 21\n",
      "train_loss: 0.380, train_acc: 0.845\n",
      "valid_loss: 0.350, valid_acc: 0.867\n",
      "valid_f1: 0.868\n"
     ]
    },
    {
     "name": "stderr",
     "output_type": "stream",
     "text": [
      "training...: 100%|██████████| 1288/1288 [00:48<00:00, 26.40it/s]\n",
      "evaluating...: 100%|██████████| 430/430 [00:16<00:00, 26.11it/s]\n"
     ]
    },
    {
     "name": "stdout",
     "output_type": "stream",
     "text": [
      "epoch: 22\n",
      "train_loss: 0.377, train_acc: 0.842\n",
      "valid_loss: 0.347, valid_acc: 0.869\n",
      "valid_f1: 0.870\n"
     ]
    },
    {
     "name": "stderr",
     "output_type": "stream",
     "text": [
      "training...: 100%|██████████| 1288/1288 [00:49<00:00, 25.95it/s]\n",
      "evaluating...: 100%|██████████| 430/430 [00:16<00:00, 26.11it/s]\n"
     ]
    },
    {
     "name": "stdout",
     "output_type": "stream",
     "text": [
      "epoch: 23\n",
      "train_loss: 0.373, train_acc: 0.847\n",
      "valid_loss: 0.346, valid_acc: 0.871\n",
      "valid_f1: 0.871\n"
     ]
    },
    {
     "name": "stderr",
     "output_type": "stream",
     "text": [
      "training...: 100%|██████████| 1288/1288 [00:49<00:00, 26.22it/s]\n",
      "evaluating...: 100%|██████████| 430/430 [00:16<00:00, 26.09it/s]\n"
     ]
    },
    {
     "name": "stdout",
     "output_type": "stream",
     "text": [
      "epoch: 24\n",
      "train_loss: 0.373, train_acc: 0.847\n",
      "valid_loss: 0.344, valid_acc: 0.869\n",
      "valid_f1: 0.870\n"
     ]
    },
    {
     "name": "stderr",
     "output_type": "stream",
     "text": [
      "training...: 100%|██████████| 1288/1288 [00:49<00:00, 26.13it/s]\n",
      "evaluating...: 100%|██████████| 430/430 [00:16<00:00, 26.10it/s]\n"
     ]
    },
    {
     "name": "stdout",
     "output_type": "stream",
     "text": [
      "epoch: 25\n",
      "train_loss: 0.369, train_acc: 0.851\n",
      "valid_loss: 0.342, valid_acc: 0.869\n",
      "valid_f1: 0.870\n"
     ]
    },
    {
     "name": "stderr",
     "output_type": "stream",
     "text": [
      "training...: 100%|██████████| 1288/1288 [00:49<00:00, 26.20it/s]\n",
      "evaluating...: 100%|██████████| 430/430 [00:16<00:00, 26.07it/s]\n"
     ]
    },
    {
     "name": "stdout",
     "output_type": "stream",
     "text": [
      "epoch: 26\n",
      "train_loss: 0.369, train_acc: 0.849\n",
      "valid_loss: 0.340, valid_acc: 0.873\n",
      "valid_f1: 0.874\n"
     ]
    },
    {
     "name": "stderr",
     "output_type": "stream",
     "text": [
      "training...: 100%|██████████| 1288/1288 [00:49<00:00, 26.25it/s]\n",
      "evaluating...: 100%|██████████| 430/430 [00:16<00:00, 26.10it/s]\n"
     ]
    },
    {
     "name": "stdout",
     "output_type": "stream",
     "text": [
      "epoch: 27\n",
      "train_loss: 0.366, train_acc: 0.853\n",
      "valid_loss: 0.339, valid_acc: 0.872\n",
      "valid_f1: 0.872\n"
     ]
    },
    {
     "name": "stderr",
     "output_type": "stream",
     "text": [
      "training...: 100%|██████████| 1288/1288 [00:49<00:00, 26.03it/s]\n",
      "evaluating...: 100%|██████████| 430/430 [00:16<00:00, 26.07it/s]\n"
     ]
    },
    {
     "name": "stdout",
     "output_type": "stream",
     "text": [
      "epoch: 28\n",
      "train_loss: 0.364, train_acc: 0.848\n",
      "valid_loss: 0.337, valid_acc: 0.872\n",
      "valid_f1: 0.872\n"
     ]
    },
    {
     "name": "stderr",
     "output_type": "stream",
     "text": [
      "training...: 100%|██████████| 1288/1288 [00:49<00:00, 26.06it/s]\n",
      "evaluating...: 100%|██████████| 430/430 [00:16<00:00, 26.10it/s]\n"
     ]
    },
    {
     "name": "stdout",
     "output_type": "stream",
     "text": [
      "epoch: 29\n",
      "train_loss: 0.369, train_acc: 0.848\n",
      "valid_loss: 0.336, valid_acc: 0.872\n",
      "valid_f1: 0.873\n"
     ]
    },
    {
     "name": "stderr",
     "output_type": "stream",
     "text": [
      "training...: 100%|██████████| 1288/1288 [00:49<00:00, 26.10it/s]\n",
      "evaluating...: 100%|██████████| 430/430 [00:16<00:00, 26.09it/s]\n"
     ]
    },
    {
     "name": "stdout",
     "output_type": "stream",
     "text": [
      "epoch: 30\n",
      "train_loss: 0.364, train_acc: 0.854\n",
      "valid_loss: 0.335, valid_acc: 0.876\n",
      "valid_f1: 0.875\n"
     ]
    },
    {
     "name": "stderr",
     "output_type": "stream",
     "text": [
      "training...: 100%|██████████| 1288/1288 [00:49<00:00, 26.00it/s]\n",
      "evaluating...: 100%|██████████| 430/430 [00:16<00:00, 26.10it/s]\n"
     ]
    },
    {
     "name": "stdout",
     "output_type": "stream",
     "text": [
      "epoch: 31\n",
      "train_loss: 0.361, train_acc: 0.849\n",
      "valid_loss: 0.334, valid_acc: 0.875\n",
      "valid_f1: 0.876\n"
     ]
    },
    {
     "name": "stderr",
     "output_type": "stream",
     "text": [
      "training...: 100%|██████████| 1288/1288 [00:49<00:00, 26.28it/s]\n",
      "evaluating...: 100%|██████████| 430/430 [00:16<00:00, 26.11it/s]\n"
     ]
    },
    {
     "name": "stdout",
     "output_type": "stream",
     "text": [
      "epoch: 32\n",
      "train_loss: 0.359, train_acc: 0.851\n",
      "valid_loss: 0.332, valid_acc: 0.875\n",
      "valid_f1: 0.874\n"
     ]
    },
    {
     "name": "stderr",
     "output_type": "stream",
     "text": [
      "training...: 100%|██████████| 1288/1288 [00:49<00:00, 25.98it/s]\n",
      "evaluating...: 100%|██████████| 430/430 [00:16<00:00, 26.10it/s]\n"
     ]
    },
    {
     "name": "stdout",
     "output_type": "stream",
     "text": [
      "epoch: 33\n",
      "train_loss: 0.363, train_acc: 0.848\n",
      "valid_loss: 0.331, valid_acc: 0.874\n",
      "valid_f1: 0.875\n"
     ]
    },
    {
     "name": "stderr",
     "output_type": "stream",
     "text": [
      "training...: 100%|██████████| 1288/1288 [00:48<00:00, 26.39it/s]\n",
      "evaluating...: 100%|██████████| 430/430 [00:16<00:00, 26.07it/s]\n"
     ]
    },
    {
     "name": "stdout",
     "output_type": "stream",
     "text": [
      "epoch: 34\n",
      "train_loss: 0.358, train_acc: 0.854\n",
      "valid_loss: 0.330, valid_acc: 0.877\n",
      "valid_f1: 0.877\n"
     ]
    },
    {
     "name": "stderr",
     "output_type": "stream",
     "text": [
      "training...: 100%|██████████| 1288/1288 [00:49<00:00, 26.17it/s]\n",
      "evaluating...: 100%|██████████| 430/430 [00:16<00:00, 26.09it/s]\n"
     ]
    },
    {
     "name": "stdout",
     "output_type": "stream",
     "text": [
      "epoch: 35\n",
      "train_loss: 0.358, train_acc: 0.854\n",
      "valid_loss: 0.329, valid_acc: 0.877\n",
      "valid_f1: 0.877\n"
     ]
    },
    {
     "name": "stderr",
     "output_type": "stream",
     "text": [
      "training...: 100%|██████████| 1288/1288 [00:49<00:00, 26.00it/s]\n",
      "evaluating...: 100%|██████████| 430/430 [00:16<00:00, 26.10it/s]\n"
     ]
    },
    {
     "name": "stdout",
     "output_type": "stream",
     "text": [
      "epoch: 36\n",
      "train_loss: 0.356, train_acc: 0.854\n",
      "valid_loss: 0.329, valid_acc: 0.878\n",
      "valid_f1: 0.878\n"
     ]
    },
    {
     "name": "stderr",
     "output_type": "stream",
     "text": [
      "training...: 100%|██████████| 1288/1288 [00:49<00:00, 26.24it/s]\n",
      "evaluating...: 100%|██████████| 430/430 [00:16<00:00, 26.22it/s]\n"
     ]
    },
    {
     "name": "stdout",
     "output_type": "stream",
     "text": [
      "epoch: 37\n",
      "train_loss: 0.355, train_acc: 0.855\n",
      "valid_loss: 0.327, valid_acc: 0.879\n",
      "valid_f1: 0.879\n"
     ]
    },
    {
     "name": "stderr",
     "output_type": "stream",
     "text": [
      "training...: 100%|██████████| 1288/1288 [00:49<00:00, 26.22it/s]\n",
      "evaluating...: 100%|██████████| 430/430 [00:16<00:00, 26.09it/s]\n"
     ]
    },
    {
     "name": "stdout",
     "output_type": "stream",
     "text": [
      "epoch: 38\n",
      "train_loss: 0.350, train_acc: 0.858\n",
      "valid_loss: 0.326, valid_acc: 0.878\n",
      "valid_f1: 0.878\n"
     ]
    },
    {
     "name": "stderr",
     "output_type": "stream",
     "text": [
      "training...: 100%|██████████| 1288/1288 [00:49<00:00, 26.06it/s]\n",
      "evaluating...: 100%|██████████| 430/430 [00:16<00:00, 26.10it/s]\n"
     ]
    },
    {
     "name": "stdout",
     "output_type": "stream",
     "text": [
      "epoch: 39\n",
      "train_loss: 0.356, train_acc: 0.854\n",
      "valid_loss: 0.325, valid_acc: 0.880\n",
      "valid_f1: 0.880\n"
     ]
    },
    {
     "name": "stderr",
     "output_type": "stream",
     "text": [
      "training...: 100%|██████████| 1288/1288 [00:48<00:00, 26.30it/s]\n",
      "evaluating...: 100%|██████████| 430/430 [00:16<00:00, 26.10it/s]\n"
     ]
    },
    {
     "name": "stdout",
     "output_type": "stream",
     "text": [
      "epoch: 40\n",
      "train_loss: 0.352, train_acc: 0.855\n",
      "valid_loss: 0.324, valid_acc: 0.881\n",
      "valid_f1: 0.880\n"
     ]
    },
    {
     "name": "stderr",
     "output_type": "stream",
     "text": [
      "training...: 100%|██████████| 1288/1288 [00:49<00:00, 26.19it/s]\n",
      "evaluating...: 100%|██████████| 430/430 [00:16<00:00, 26.11it/s]\n"
     ]
    },
    {
     "name": "stdout",
     "output_type": "stream",
     "text": [
      "epoch: 41\n",
      "train_loss: 0.354, train_acc: 0.855\n",
      "valid_loss: 0.323, valid_acc: 0.881\n",
      "valid_f1: 0.880\n"
     ]
    },
    {
     "name": "stderr",
     "output_type": "stream",
     "text": [
      "training...: 100%|██████████| 1288/1288 [00:49<00:00, 26.07it/s]\n",
      "evaluating...: 100%|██████████| 430/430 [00:16<00:00, 26.13it/s]\n"
     ]
    },
    {
     "name": "stdout",
     "output_type": "stream",
     "text": [
      "epoch: 42\n",
      "train_loss: 0.354, train_acc: 0.851\n",
      "valid_loss: 0.323, valid_acc: 0.880\n",
      "valid_f1: 0.880\n"
     ]
    },
    {
     "name": "stderr",
     "output_type": "stream",
     "text": [
      "training...: 100%|██████████| 1288/1288 [00:49<00:00, 26.22it/s]\n",
      "evaluating...: 100%|██████████| 430/430 [00:16<00:00, 26.13it/s]\n"
     ]
    },
    {
     "name": "stdout",
     "output_type": "stream",
     "text": [
      "epoch: 43\n",
      "train_loss: 0.351, train_acc: 0.854\n",
      "valid_loss: 0.322, valid_acc: 0.881\n",
      "valid_f1: 0.881\n"
     ]
    },
    {
     "name": "stderr",
     "output_type": "stream",
     "text": [
      "training...: 100%|██████████| 1288/1288 [00:49<00:00, 26.04it/s]\n",
      "evaluating...: 100%|██████████| 430/430 [00:16<00:00, 26.13it/s]\n"
     ]
    },
    {
     "name": "stdout",
     "output_type": "stream",
     "text": [
      "epoch: 44\n",
      "train_loss: 0.347, train_acc: 0.858\n",
      "valid_loss: 0.321, valid_acc: 0.881\n",
      "valid_f1: 0.881\n"
     ]
    },
    {
     "name": "stderr",
     "output_type": "stream",
     "text": [
      "training...: 100%|██████████| 1288/1288 [00:48<00:00, 26.57it/s]\n",
      "evaluating...: 100%|██████████| 430/430 [00:16<00:00, 26.12it/s]\n"
     ]
    },
    {
     "name": "stdout",
     "output_type": "stream",
     "text": [
      "epoch: 45\n",
      "train_loss: 0.349, train_acc: 0.860\n",
      "valid_loss: 0.320, valid_acc: 0.882\n",
      "valid_f1: 0.881\n"
     ]
    },
    {
     "name": "stderr",
     "output_type": "stream",
     "text": [
      "training...: 100%|██████████| 1288/1288 [00:49<00:00, 25.93it/s]\n",
      "evaluating...: 100%|██████████| 430/430 [00:16<00:00, 26.11it/s]\n"
     ]
    },
    {
     "name": "stdout",
     "output_type": "stream",
     "text": [
      "epoch: 46\n",
      "train_loss: 0.346, train_acc: 0.856\n",
      "valid_loss: 0.320, valid_acc: 0.882\n",
      "valid_f1: 0.882\n"
     ]
    },
    {
     "name": "stderr",
     "output_type": "stream",
     "text": [
      "training...: 100%|██████████| 1288/1288 [00:49<00:00, 26.19it/s]\n",
      "evaluating...: 100%|██████████| 430/430 [00:16<00:00, 26.11it/s]\n"
     ]
    },
    {
     "name": "stdout",
     "output_type": "stream",
     "text": [
      "epoch: 47\n",
      "train_loss: 0.345, train_acc: 0.856\n",
      "valid_loss: 0.319, valid_acc: 0.882\n",
      "valid_f1: 0.881\n"
     ]
    },
    {
     "name": "stderr",
     "output_type": "stream",
     "text": [
      "training...: 100%|██████████| 1288/1288 [00:49<00:00, 26.20it/s]\n",
      "evaluating...: 100%|██████████| 430/430 [00:16<00:00, 26.12it/s]\n"
     ]
    },
    {
     "name": "stdout",
     "output_type": "stream",
     "text": [
      "epoch: 48\n",
      "train_loss: 0.352, train_acc: 0.854\n",
      "valid_loss: 0.318, valid_acc: 0.881\n",
      "valid_f1: 0.881\n"
     ]
    },
    {
     "name": "stderr",
     "output_type": "stream",
     "text": [
      "training...: 100%|██████████| 1288/1288 [00:49<00:00, 26.13it/s]\n",
      "evaluating...: 100%|██████████| 430/430 [00:16<00:00, 26.24it/s]\n"
     ]
    },
    {
     "name": "stdout",
     "output_type": "stream",
     "text": [
      "epoch: 49\n",
      "train_loss: 0.347, train_acc: 0.856\n",
      "valid_loss: 0.318, valid_acc: 0.884\n",
      "valid_f1: 0.884\n"
     ]
    },
    {
     "name": "stderr",
     "output_type": "stream",
     "text": [
      "training...: 100%|██████████| 1288/1288 [00:49<00:00, 26.27it/s]\n",
      "evaluating...: 100%|██████████| 430/430 [00:16<00:00, 26.14it/s]\n"
     ]
    },
    {
     "name": "stdout",
     "output_type": "stream",
     "text": [
      "epoch: 50\n",
      "train_loss: 0.346, train_acc: 0.860\n",
      "valid_loss: 0.317, valid_acc: 0.882\n",
      "valid_f1: 0.882\n"
     ]
    },
    {
     "name": "stderr",
     "output_type": "stream",
     "text": [
      "training...: 100%|██████████| 1288/1288 [00:48<00:00, 26.67it/s]\n",
      "evaluating...: 100%|██████████| 430/430 [00:16<00:00, 26.29it/s]\n"
     ]
    },
    {
     "name": "stdout",
     "output_type": "stream",
     "text": [
      "epoch: 51\n",
      "train_loss: 0.347, train_acc: 0.859\n",
      "valid_loss: 0.317, valid_acc: 0.882\n",
      "valid_f1: 0.882\n"
     ]
    },
    {
     "name": "stderr",
     "output_type": "stream",
     "text": [
      "training...: 100%|██████████| 1288/1288 [00:49<00:00, 26.13it/s]\n",
      "evaluating...: 100%|██████████| 430/430 [00:16<00:00, 26.09it/s]\n"
     ]
    },
    {
     "name": "stdout",
     "output_type": "stream",
     "text": [
      "epoch: 52\n",
      "train_loss: 0.344, train_acc: 0.857\n",
      "valid_loss: 0.316, valid_acc: 0.883\n",
      "valid_f1: 0.883\n"
     ]
    },
    {
     "name": "stderr",
     "output_type": "stream",
     "text": [
      "training...: 100%|██████████| 1288/1288 [00:49<00:00, 25.95it/s]\n",
      "evaluating...: 100%|██████████| 430/430 [00:16<00:00, 26.10it/s]\n"
     ]
    },
    {
     "name": "stdout",
     "output_type": "stream",
     "text": [
      "epoch: 53\n",
      "train_loss: 0.344, train_acc: 0.857\n",
      "valid_loss: 0.315, valid_acc: 0.883\n",
      "valid_f1: 0.883\n"
     ]
    },
    {
     "name": "stderr",
     "output_type": "stream",
     "text": [
      "training...: 100%|██████████| 1288/1288 [00:49<00:00, 26.12it/s]\n",
      "evaluating...: 100%|██████████| 430/430 [00:16<00:00, 26.11it/s]\n"
     ]
    },
    {
     "name": "stdout",
     "output_type": "stream",
     "text": [
      "epoch: 54\n",
      "train_loss: 0.344, train_acc: 0.859\n",
      "valid_loss: 0.315, valid_acc: 0.883\n",
      "valid_f1: 0.883\n"
     ]
    },
    {
     "name": "stderr",
     "output_type": "stream",
     "text": [
      "training...: 100%|██████████| 1288/1288 [00:49<00:00, 26.06it/s]\n",
      "evaluating...: 100%|██████████| 430/430 [00:16<00:00, 26.11it/s]\n"
     ]
    },
    {
     "name": "stdout",
     "output_type": "stream",
     "text": [
      "epoch: 55\n",
      "train_loss: 0.337, train_acc: 0.864\n",
      "valid_loss: 0.314, valid_acc: 0.884\n",
      "valid_f1: 0.884\n"
     ]
    },
    {
     "name": "stderr",
     "output_type": "stream",
     "text": [
      "training...: 100%|██████████| 1288/1288 [00:49<00:00, 26.13it/s]\n",
      "evaluating...: 100%|██████████| 430/430 [00:16<00:00, 26.14it/s]\n"
     ]
    },
    {
     "name": "stdout",
     "output_type": "stream",
     "text": [
      "epoch: 56\n",
      "train_loss: 0.339, train_acc: 0.863\n",
      "valid_loss: 0.314, valid_acc: 0.883\n",
      "valid_f1: 0.883\n"
     ]
    },
    {
     "name": "stderr",
     "output_type": "stream",
     "text": [
      "training...: 100%|██████████| 1288/1288 [00:48<00:00, 26.43it/s]\n",
      "evaluating...: 100%|██████████| 430/430 [00:16<00:00, 26.13it/s]\n"
     ]
    },
    {
     "name": "stdout",
     "output_type": "stream",
     "text": [
      "epoch: 57\n",
      "train_loss: 0.340, train_acc: 0.859\n",
      "valid_loss: 0.314, valid_acc: 0.883\n",
      "valid_f1: 0.882\n"
     ]
    },
    {
     "name": "stderr",
     "output_type": "stream",
     "text": [
      "training...: 100%|██████████| 1288/1288 [00:49<00:00, 26.11it/s]\n",
      "evaluating...: 100%|██████████| 430/430 [00:16<00:00, 26.10it/s]\n"
     ]
    },
    {
     "name": "stdout",
     "output_type": "stream",
     "text": [
      "epoch: 58\n",
      "train_loss: 0.343, train_acc: 0.857\n",
      "valid_loss: 0.313, valid_acc: 0.884\n",
      "valid_f1: 0.883\n"
     ]
    },
    {
     "name": "stderr",
     "output_type": "stream",
     "text": [
      "training...: 100%|██████████| 1288/1288 [00:49<00:00, 26.15it/s]\n",
      "evaluating...: 100%|██████████| 430/430 [00:16<00:00, 26.10it/s]\n"
     ]
    },
    {
     "name": "stdout",
     "output_type": "stream",
     "text": [
      "epoch: 59\n",
      "train_loss: 0.341, train_acc: 0.858\n",
      "valid_loss: 0.312, valid_acc: 0.885\n",
      "valid_f1: 0.885\n"
     ]
    },
    {
     "name": "stderr",
     "output_type": "stream",
     "text": [
      "training...: 100%|██████████| 1288/1288 [00:48<00:00, 26.40it/s]\n",
      "evaluating...: 100%|██████████| 430/430 [00:16<00:00, 26.10it/s]\n"
     ]
    },
    {
     "name": "stdout",
     "output_type": "stream",
     "text": [
      "epoch: 60\n",
      "train_loss: 0.341, train_acc: 0.859\n",
      "valid_loss: 0.311, valid_acc: 0.885\n",
      "valid_f1: 0.885\n"
     ]
    },
    {
     "name": "stderr",
     "output_type": "stream",
     "text": [
      "training...: 100%|██████████| 1288/1288 [00:49<00:00, 26.14it/s]\n",
      "evaluating...: 100%|██████████| 430/430 [00:16<00:00, 26.14it/s]\n"
     ]
    },
    {
     "name": "stdout",
     "output_type": "stream",
     "text": [
      "epoch: 61\n",
      "train_loss: 0.343, train_acc: 0.858\n",
      "valid_loss: 0.311, valid_acc: 0.887\n",
      "valid_f1: 0.886\n"
     ]
    },
    {
     "name": "stderr",
     "output_type": "stream",
     "text": [
      "training...: 100%|██████████| 1288/1288 [00:49<00:00, 26.18it/s]\n",
      "evaluating...: 100%|██████████| 430/430 [00:16<00:00, 26.12it/s]\n"
     ]
    },
    {
     "name": "stdout",
     "output_type": "stream",
     "text": [
      "epoch: 62\n",
      "train_loss: 0.341, train_acc: 0.859\n",
      "valid_loss: 0.310, valid_acc: 0.885\n",
      "valid_f1: 0.885\n"
     ]
    },
    {
     "name": "stderr",
     "output_type": "stream",
     "text": [
      "training...: 100%|██████████| 1288/1288 [00:49<00:00, 26.23it/s]\n",
      "evaluating...: 100%|██████████| 430/430 [00:16<00:00, 26.16it/s]\n"
     ]
    },
    {
     "name": "stdout",
     "output_type": "stream",
     "text": [
      "epoch: 63\n",
      "train_loss: 0.341, train_acc: 0.860\n",
      "valid_loss: 0.311, valid_acc: 0.883\n",
      "valid_f1: 0.883\n"
     ]
    },
    {
     "name": "stderr",
     "output_type": "stream",
     "text": [
      "training...: 100%|██████████| 1288/1288 [00:48<00:00, 26.39it/s]\n",
      "evaluating...: 100%|██████████| 430/430 [00:16<00:00, 26.13it/s]\n"
     ]
    },
    {
     "name": "stdout",
     "output_type": "stream",
     "text": [
      "epoch: 64\n",
      "train_loss: 0.340, train_acc: 0.858\n",
      "valid_loss: 0.310, valid_acc: 0.885\n",
      "valid_f1: 0.885\n"
     ]
    },
    {
     "name": "stderr",
     "output_type": "stream",
     "text": [
      "training...: 100%|██████████| 1288/1288 [00:49<00:00, 26.14it/s]\n",
      "evaluating...: 100%|██████████| 430/430 [00:16<00:00, 26.12it/s]\n"
     ]
    },
    {
     "name": "stdout",
     "output_type": "stream",
     "text": [
      "epoch: 65\n",
      "train_loss: 0.340, train_acc: 0.862\n",
      "valid_loss: 0.309, valid_acc: 0.885\n",
      "valid_f1: 0.885\n"
     ]
    },
    {
     "name": "stderr",
     "output_type": "stream",
     "text": [
      "training...: 100%|██████████| 1288/1288 [00:49<00:00, 26.22it/s]\n",
      "evaluating...: 100%|██████████| 430/430 [00:16<00:00, 26.11it/s]\n"
     ]
    },
    {
     "name": "stdout",
     "output_type": "stream",
     "text": [
      "epoch: 66\n",
      "train_loss: 0.341, train_acc: 0.863\n",
      "valid_loss: 0.309, valid_acc: 0.886\n",
      "valid_f1: 0.886\n"
     ]
    },
    {
     "name": "stderr",
     "output_type": "stream",
     "text": [
      "training...: 100%|██████████| 1288/1288 [00:49<00:00, 26.15it/s]\n",
      "evaluating...: 100%|██████████| 430/430 [00:16<00:00, 26.10it/s]\n"
     ]
    },
    {
     "name": "stdout",
     "output_type": "stream",
     "text": [
      "epoch: 67\n",
      "train_loss: 0.335, train_acc: 0.862\n",
      "valid_loss: 0.308, valid_acc: 0.885\n",
      "valid_f1: 0.885\n"
     ]
    },
    {
     "name": "stderr",
     "output_type": "stream",
     "text": [
      "training...: 100%|██████████| 1288/1288 [00:49<00:00, 26.27it/s]\n",
      "evaluating...: 100%|██████████| 430/430 [00:16<00:00, 26.11it/s]\n"
     ]
    },
    {
     "name": "stdout",
     "output_type": "stream",
     "text": [
      "epoch: 68\n",
      "train_loss: 0.338, train_acc: 0.860\n",
      "valid_loss: 0.308, valid_acc: 0.886\n",
      "valid_f1: 0.886\n"
     ]
    },
    {
     "name": "stderr",
     "output_type": "stream",
     "text": [
      "training...: 100%|██████████| 1288/1288 [00:49<00:00, 26.18it/s]\n",
      "evaluating...: 100%|██████████| 430/430 [00:16<00:00, 26.12it/s]\n"
     ]
    },
    {
     "name": "stdout",
     "output_type": "stream",
     "text": [
      "epoch: 69\n",
      "train_loss: 0.337, train_acc: 0.859\n",
      "valid_loss: 0.308, valid_acc: 0.885\n",
      "valid_f1: 0.885\n"
     ]
    },
    {
     "name": "stderr",
     "output_type": "stream",
     "text": [
      "training...: 100%|██████████| 1288/1288 [00:49<00:00, 26.03it/s]\n",
      "evaluating...: 100%|██████████| 430/430 [00:16<00:00, 26.09it/s]\n"
     ]
    },
    {
     "name": "stdout",
     "output_type": "stream",
     "text": [
      "epoch: 70\n",
      "train_loss: 0.339, train_acc: 0.861\n",
      "valid_loss: 0.308, valid_acc: 0.885\n",
      "valid_f1: 0.885\n"
     ]
    },
    {
     "name": "stderr",
     "output_type": "stream",
     "text": [
      "training...: 100%|██████████| 1288/1288 [00:48<00:00, 26.37it/s]\n",
      "evaluating...: 100%|██████████| 430/430 [00:16<00:00, 26.12it/s]\n"
     ]
    },
    {
     "name": "stdout",
     "output_type": "stream",
     "text": [
      "epoch: 71\n",
      "train_loss: 0.335, train_acc: 0.862\n",
      "valid_loss: 0.307, valid_acc: 0.885\n",
      "valid_f1: 0.885\n"
     ]
    },
    {
     "name": "stderr",
     "output_type": "stream",
     "text": [
      "training...: 100%|██████████| 1288/1288 [00:49<00:00, 26.13it/s]\n",
      "evaluating...: 100%|██████████| 430/430 [00:16<00:00, 26.13it/s]\n"
     ]
    },
    {
     "name": "stdout",
     "output_type": "stream",
     "text": [
      "epoch: 72\n",
      "train_loss: 0.339, train_acc: 0.862\n",
      "valid_loss: 0.307, valid_acc: 0.889\n",
      "valid_f1: 0.889\n"
     ]
    },
    {
     "name": "stderr",
     "output_type": "stream",
     "text": [
      "training...: 100%|██████████| 1288/1288 [00:49<00:00, 26.09it/s]\n",
      "evaluating...: 100%|██████████| 430/430 [00:16<00:00, 26.14it/s]\n"
     ]
    },
    {
     "name": "stdout",
     "output_type": "stream",
     "text": [
      "epoch: 73\n",
      "train_loss: 0.333, train_acc: 0.864\n",
      "valid_loss: 0.307, valid_acc: 0.884\n",
      "valid_f1: 0.883\n"
     ]
    },
    {
     "name": "stderr",
     "output_type": "stream",
     "text": [
      "training...: 100%|██████████| 1288/1288 [00:49<00:00, 26.22it/s]\n",
      "evaluating...: 100%|██████████| 430/430 [00:16<00:00, 26.11it/s]\n"
     ]
    },
    {
     "name": "stdout",
     "output_type": "stream",
     "text": [
      "epoch: 74\n",
      "train_loss: 0.331, train_acc: 0.865\n",
      "valid_loss: 0.306, valid_acc: 0.887\n",
      "valid_f1: 0.887\n"
     ]
    },
    {
     "name": "stderr",
     "output_type": "stream",
     "text": [
      "training...: 100%|██████████| 1288/1288 [00:49<00:00, 26.20it/s]\n",
      "evaluating...: 100%|██████████| 430/430 [00:16<00:00, 26.10it/s]\n"
     ]
    },
    {
     "name": "stdout",
     "output_type": "stream",
     "text": [
      "epoch: 75\n",
      "train_loss: 0.336, train_acc: 0.864\n",
      "valid_loss: 0.305, valid_acc: 0.886\n",
      "valid_f1: 0.885\n"
     ]
    },
    {
     "name": "stderr",
     "output_type": "stream",
     "text": [
      "training...: 100%|██████████| 1288/1288 [00:49<00:00, 26.17it/s]\n",
      "evaluating...: 100%|██████████| 430/430 [00:16<00:00, 26.05it/s]\n"
     ]
    },
    {
     "name": "stdout",
     "output_type": "stream",
     "text": [
      "epoch: 76\n",
      "train_loss: 0.328, train_acc: 0.866\n",
      "valid_loss: 0.305, valid_acc: 0.889\n",
      "valid_f1: 0.888\n"
     ]
    },
    {
     "name": "stderr",
     "output_type": "stream",
     "text": [
      "training...: 100%|██████████| 1288/1288 [00:48<00:00, 26.33it/s]\n",
      "evaluating...: 100%|██████████| 430/430 [00:16<00:00, 26.14it/s]\n"
     ]
    },
    {
     "name": "stdout",
     "output_type": "stream",
     "text": [
      "epoch: 77\n",
      "train_loss: 0.335, train_acc: 0.859\n",
      "valid_loss: 0.304, valid_acc: 0.888\n",
      "valid_f1: 0.888\n"
     ]
    },
    {
     "name": "stderr",
     "output_type": "stream",
     "text": [
      "training...:  21%|██        | 268/1288 [00:09<00:37, 26.99it/s]\n"
     ]
    },
    {
     "ename": "KeyboardInterrupt",
     "evalue": "",
     "output_type": "error",
     "traceback": [
      "\u001b[0;31m---------------------------------------------------------------------------\u001b[0m",
      "\u001b[0;31mKeyboardInterrupt\u001b[0m                         Traceback (most recent call last)",
      "\u001b[1;32m/home/newdisk/jxh/课程项目/Finetune-lab/examples/Bert-情感分析.ipynb 单元格 21\u001b[0m line \u001b[0;36m2\n\u001b[1;32m      <a href='vscode-notebook-cell://ssh-remote%2B7b22686f73744e616d65223a225649532d5155414e54227d/home/newdisk/jxh/%E8%AF%BE%E7%A8%8B%E9%A1%B9%E7%9B%AE/Finetune-lab/examples/Bert-%E6%83%85%E6%84%9F%E5%88%86%E6%9E%90.ipynb#X30sdnNjb2RlLXJlbW90ZQ%3D%3D?line=0'>1</a>\u001b[0m \u001b[39mfor\u001b[39;00m epoch \u001b[39min\u001b[39;00m \u001b[39mrange\u001b[39m(n_epochs):\n\u001b[0;32m----> <a href='vscode-notebook-cell://ssh-remote%2B7b22686f73744e616d65223a225649532d5155414e54227d/home/newdisk/jxh/%E8%AF%BE%E7%A8%8B%E9%A1%B9%E7%9B%AE/Finetune-lab/examples/Bert-%E6%83%85%E6%84%9F%E5%88%86%E6%9E%90.ipynb#X30sdnNjb2RlLXJlbW90ZQ%3D%3D?line=1'>2</a>\u001b[0m     train_loss, train_acc \u001b[39m=\u001b[39m train(\n\u001b[1;32m      <a href='vscode-notebook-cell://ssh-remote%2B7b22686f73744e616d65223a225649532d5155414e54227d/home/newdisk/jxh/%E8%AF%BE%E7%A8%8B%E9%A1%B9%E7%9B%AE/Finetune-lab/examples/Bert-%E6%83%85%E6%84%9F%E5%88%86%E6%9E%90.ipynb#X30sdnNjb2RlLXJlbW90ZQ%3D%3D?line=2'>3</a>\u001b[0m         train_data_loader, model, criterion, optimizer, device, scheduler\u001b[39m=\u001b[39;49m\u001b[39mNone\u001b[39;49;00m\n\u001b[1;32m      <a href='vscode-notebook-cell://ssh-remote%2B7b22686f73744e616d65223a225649532d5155414e54227d/home/newdisk/jxh/%E8%AF%BE%E7%A8%8B%E9%A1%B9%E7%9B%AE/Finetune-lab/examples/Bert-%E6%83%85%E6%84%9F%E5%88%86%E6%9E%90.ipynb#X30sdnNjb2RlLXJlbW90ZQ%3D%3D?line=3'>4</a>\u001b[0m     )\n\u001b[1;32m      <a href='vscode-notebook-cell://ssh-remote%2B7b22686f73744e616d65223a225649532d5155414e54227d/home/newdisk/jxh/%E8%AF%BE%E7%A8%8B%E9%A1%B9%E7%9B%AE/Finetune-lab/examples/Bert-%E6%83%85%E6%84%9F%E5%88%86%E6%9E%90.ipynb#X30sdnNjb2RlLXJlbW90ZQ%3D%3D?line=4'>5</a>\u001b[0m     valid_loss, valid_acc, f1 \u001b[39m=\u001b[39m evaluate(valid_data_loader, model, criterion, device)\n\u001b[1;32m      <a href='vscode-notebook-cell://ssh-remote%2B7b22686f73744e616d65223a225649532d5155414e54227d/home/newdisk/jxh/%E8%AF%BE%E7%A8%8B%E9%A1%B9%E7%9B%AE/Finetune-lab/examples/Bert-%E6%83%85%E6%84%9F%E5%88%86%E6%9E%90.ipynb#X30sdnNjb2RlLXJlbW90ZQ%3D%3D?line=5'>6</a>\u001b[0m     metrics[\u001b[39m\"\u001b[39m\u001b[39mtrain_losses\u001b[39m\u001b[39m\"\u001b[39m]\u001b[39m.\u001b[39mappend(train_loss)\n",
      "\u001b[1;32m/home/newdisk/jxh/课程项目/Finetune-lab/examples/Bert-情感分析.ipynb 单元格 21\u001b[0m line \u001b[0;36m1\n\u001b[1;32m     <a href='vscode-notebook-cell://ssh-remote%2B7b22686f73744e616d65223a225649532d5155414e54227d/home/newdisk/jxh/%E8%AF%BE%E7%A8%8B%E9%A1%B9%E7%9B%AE/Finetune-lab/examples/Bert-%E6%83%85%E6%84%9F%E5%88%86%E6%9E%90.ipynb#X30sdnNjb2RlLXJlbW90ZQ%3D%3D?line=15'>16</a>\u001b[0m     \u001b[39mif\u001b[39;00m scheduler\u001b[39m!=\u001b[39m\u001b[39mNone\u001b[39;00m:\n\u001b[1;32m     <a href='vscode-notebook-cell://ssh-remote%2B7b22686f73744e616d65223a225649532d5155414e54227d/home/newdisk/jxh/%E8%AF%BE%E7%A8%8B%E9%A1%B9%E7%9B%AE/Finetune-lab/examples/Bert-%E6%83%85%E6%84%9F%E5%88%86%E6%9E%90.ipynb#X30sdnNjb2RlLXJlbW90ZQ%3D%3D?line=16'>17</a>\u001b[0m         scheduler\u001b[39m.\u001b[39mstep()\n\u001b[0;32m---> <a href='vscode-notebook-cell://ssh-remote%2B7b22686f73744e616d65223a225649532d5155414e54227d/home/newdisk/jxh/%E8%AF%BE%E7%A8%8B%E9%A1%B9%E7%9B%AE/Finetune-lab/examples/Bert-%E6%83%85%E6%84%9F%E5%88%86%E6%9E%90.ipynb#X30sdnNjb2RlLXJlbW90ZQ%3D%3D?line=17'>18</a>\u001b[0m     epoch_losses\u001b[39m.\u001b[39mappend(loss\u001b[39m.\u001b[39;49mitem())\n\u001b[1;32m     <a href='vscode-notebook-cell://ssh-remote%2B7b22686f73744e616d65223a225649532d5155414e54227d/home/newdisk/jxh/%E8%AF%BE%E7%A8%8B%E9%A1%B9%E7%9B%AE/Finetune-lab/examples/Bert-%E6%83%85%E6%84%9F%E5%88%86%E6%9E%90.ipynb#X30sdnNjb2RlLXJlbW90ZQ%3D%3D?line=18'>19</a>\u001b[0m     epoch_accs\u001b[39m.\u001b[39mappend(accuracy\u001b[39m.\u001b[39mitem())\n\u001b[1;32m     <a href='vscode-notebook-cell://ssh-remote%2B7b22686f73744e616d65223a225649532d5155414e54227d/home/newdisk/jxh/%E8%AF%BE%E7%A8%8B%E9%A1%B9%E7%9B%AE/Finetune-lab/examples/Bert-%E6%83%85%E6%84%9F%E5%88%86%E6%9E%90.ipynb#X30sdnNjb2RlLXJlbW90ZQ%3D%3D?line=20'>21</a>\u001b[0m \u001b[39mreturn\u001b[39;00m np\u001b[39m.\u001b[39mmean(epoch_losses), np\u001b[39m.\u001b[39mmean(epoch_accs)\n",
      "\u001b[0;31mKeyboardInterrupt\u001b[0m: "
     ]
    }
   ],
   "source": [
    "for epoch in range(n_epochs):\n",
    "    train_loss, train_acc = train(\n",
    "        train_data_loader, model, criterion, optimizer, device, scheduler=None\n",
    "    )\n",
    "    valid_loss, valid_acc, f1 = evaluate(valid_data_loader, model, criterion, device)\n",
    "    metrics[\"train_losses\"].append(train_loss)\n",
    "    metrics[\"train_accs\"].append(train_acc)\n",
    "    metrics[\"valid_losses\"].append(valid_loss)\n",
    "    metrics[\"valid_accs\"].append(valid_acc)\n",
    "    metrics[\"f1_score\"].append(f1)\n",
    "    if valid_loss < best_valid_loss:\n",
    "        best_valid_loss = valid_loss\n",
    "        save_checkpoints(model,\"../outputs\",\"bert_sentiment.pt\",uid)\n",
    "    print(f\"epoch: {epoch}\")\n",
    "    print(f\"train_loss: {train_loss:.3f}, train_acc: {train_acc:.3f}\")\n",
    "    print(f\"valid_loss: {valid_loss:.3f}, valid_acc: {valid_acc:.3f}\")\n",
    "    print(f\"valid_f1: {f1:.3f}\")"
   ]
  },
  {
   "cell_type": "code",
   "execution_count": null,
   "id": "8ac2a935",
   "metadata": {},
   "outputs": [
    {
     "data": {
      "image/png": "[encoded data removed]",
      "text/plain": [
       "<Figure size 1000x600 with 1 Axes>"
      ]
     },
     "metadata": {},
     "output_type": "display_data"
    }
   ],
   "source": [
    "fig = plt.figure(figsize=(10, 6))\n",
    "ax = fig.add_subplot(1, 1, 1)\n",
    "ax.plot(metrics[\"train_losses\"], label=\"train loss\")\n",
    "ax.plot(metrics[\"valid_losses\"], label=\"valid loss\")\n",
    "ax.set_xlabel(\"epoch\")\n",
    "ax.set_ylabel(\"loss\")\n",
    "# ax.set_xticks(range(n_epochs))\n",
    "ax.legend()\n",
    "ax.grid()"
   ]
  },
  {
   "cell_type": "code",
   "execution_count": null,
   "id": "8796527d",
   "metadata": {},
   "outputs": [
    {
     "data": {
      "image/png": "[encoded data removed]",
      "text/plain": [
       "<Figure size 1000x600 with 1 Axes>"
      ]
     },
     "metadata": {},
     "output_type": "display_data"
    }
   ],
   "source": [
    "fig = plt.figure(figsize=(10, 6))\n",
    "ax = fig.add_subplot(1, 1, 1)\n",
    "ax.plot(metrics[\"train_accs\"], label=\"train accuracy\")\n",
    "ax.plot(metrics[\"valid_accs\"], label=\"valid accuracy\")\n",
    "ax.set_xlabel(\"epoch\")\n",
    "ax.set_ylabel(\"loss\")\n",
    "# ax.set_xticks(range(n_epochs))\n",
    "ax.legend()\n",
    "ax.grid()"
   ]
  },
  {
   "cell_type": "code",
   "execution_count": null,
   "id": "c9f36818",
   "metadata": {},
   "outputs": [
    {
     "name": "stderr",
     "output_type": "stream",
     "text": [
      "evaluating...: 100%|██████████| 300/300 [00:11<00:00, 26.65it/s]"
     ]
    },
    {
     "name": "stdout",
     "output_type": "stream",
     "text": [
      "test_loss: 0.279, test_acc: 0.900, test_f1: 0.900\n"
     ]
    },
    {
     "name": "stderr",
     "output_type": "stream",
     "text": [
      "\n"
     ]
    }
   ],
   "source": [
    "# model.load_state_dict(torch.load(\"transformer.pt\"))\n",
    "\n",
    "test_loss, test_acc, test_f1 = evaluate(test_data_loader, model, criterion, device)\n",
    "print(f\"test_loss: {test_loss:.3f}, test_acc: {test_acc:.3f}, test_f1: {test_f1:.3f}\")"
   ]
  },
  {
   "cell_type": "code",
   "execution_count": null,
   "id": "fca30739",
   "metadata": {},
   "outputs": [],
   "source": [
    "def predict_sentiment(text, model, tokenizer, device):\n",
    "    ids= tokenizer(text)[\"input_ids\"]\n",
    "    tensor = torch.LongTensor(ids).unsqueeze(dim=0).to(device)\n",
    "    prediction = model(tensor).squeeze(dim=0)\n",
    "    probability = torch.softmax(prediction, dim=-1)\n",
    "    predicted_class = prediction.argmax(dim=-1).item()\n",
    "    predicted_probability = probability[predicted_class].item()\n",
    "    return predicted_class, predicted_probability"
   ]
  },
  {
   "cell_type": "code",
   "execution_count": null,
   "id": "ad677cd1",
   "metadata": {},
   "outputs": [
    {
     "data": {
      "text/plain": [
       "(0, 0.8938189744949341)"
      ]
     },
     "execution_count": 57,
     "metadata": {},
     "output_type": "execute_result"
    }
   ],
   "source": [
    "text = \"迪威迅股权质押违约 控股股东或被动减持\"\n",
    "# text = \"银行股全线飘绿 平安银行跌4%\"\n",
    "\n",
    "predict_sentiment(text, model, tokenizer, device)"
   ]
  },
  {
   "cell_type": "code",
   "execution_count": null,
   "id": "e7c35353",
   "metadata": {},
   "outputs": [
    {
     "data": {
      "text/plain": [
       "(1, 0.9783540368080139)"
      ]
     },
     "execution_count": 58,
     "metadata": {},
     "output_type": "execute_result"
    }
   ],
   "source": [
    "text = \"平安银行理财子公司获批筹建：注册资本50亿 股份行第五家\"\n",
    "\n",
    "predict_sentiment(text, model, tokenizer, device)"
   ]
  }
 ],
 "metadata": {
  "kernelspec": {
   "display_name": "Python 3 (ipykernel)",
   "language": "python",
   "name": "python3"
  },
  "language_info": {
   "codemirror_mode": {
    "name": "ipython",
    "version": 3
   },
   "file_extension": ".py",
   "mimetype": "text/x-python",
   "name": "python",
   "nbconvert_exporter": "python",
   "pygments_lexer": "ipython3",
   "version": "3.10.14"
  }
 },
 "nbformat": 4,
 "nbformat_minor": 5
}
