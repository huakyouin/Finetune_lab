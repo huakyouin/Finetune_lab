{
 "cells": [
  {
   "cell_type": "code",
   "execution_count": 1,
   "id": "891b5e34",
   "metadata": {},
   "outputs": [
    {
     "name": "stderr",
     "output_type": "stream",
     "text": [
      "/home/newdisk/jxh/anaconda/envs/sft2/lib/python3.10/site-packages/tqdm/auto.py:21: TqdmWarning: IProgress not found. Please update jupyter and ipywidgets. See https://ipywidgets.readthedocs.io/en/stable/user_install.html\n",
      "  from .autonotebook import tqdm as notebook_tqdm\n"
     ]
    }
   ],
   "source": [
    "\n",
    "import sys\n",
    "sys.path.append(\"..\")\n",
    "from models import BertForSequenceClassification\n",
    "\n",
    "import datasets\n",
    "import matplotlib.pyplot as plt\n",
    "import numpy as np\n",
    "import torch\n",
    "import torch.nn as nn\n",
    "import torch.optim as optim\n",
    "import tqdm\n",
    "import transformers\n",
    "\n",
    "from sklearn.metrics import precision_score,recall_score,f1_score\n",
    "\n",
    "\n",
    "import os\n",
    "import collections\n",
    "import datetime\n",
    "import random\n",
    "import string\n",
    "from functools import partial\n",
    "import math"
   ]
  },
  {
   "cell_type": "code",
   "execution_count": 2,
   "id": "895ef909",
   "metadata": {},
   "outputs": [],
   "source": [
    "seed = 1234\n",
    "\n",
    "np.random.seed(seed)\n",
    "torch.manual_seed(seed)\n",
    "torch.cuda.manual_seed(seed)\n",
    "torch.backends.cudnn.deterministic = True"
   ]
  },
  {
   "cell_type": "code",
   "execution_count": 3,
   "id": "d0a1e49f",
   "metadata": {},
   "outputs": [],
   "source": [
    "transformer_name = '../base/finbert'\n",
    "\n",
    "tokenizer = transformers.AutoTokenizer.from_pretrained(transformer_name)\n",
    "## usage：\n",
    "# tokenizer(\"hello world!\")\n",
    "# tokenizer.tokenize(\"hello world!\")\n",
    "# tokenizer.encode(\"hello world!\")\n",
    "# tokenizer.convert_ids_to_tokens(tokenizer.encode(\"hello world\"))"
   ]
  },
  {
   "cell_type": "code",
   "execution_count": 4,
   "id": "6c839ee6",
   "metadata": {},
   "outputs": [
    {
     "name": "stderr",
     "output_type": "stream",
     "text": [
      "Repo card metadata block was not found. Setting CardData to empty.\n"
     ]
    },
    {
     "data": {
      "text/plain": [
       "{'Unnamed: 0': 0,\n",
       " '日期': '2019年2月14日',\n",
       " '公司': '盛运环保',\n",
       " '代码': 300090,\n",
       " '正负面': 0,\n",
       " '标题': '盛运环保：37.48亿元到期债务未清偿',\n",
       " '正文': '盛运环保2月13日晚间发布公告称，截至目前，共有37.48亿元到期债务未清偿。'}"
      ]
     },
     "execution_count": 4,
     "metadata": {},
     "output_type": "execute_result"
    }
   ],
   "source": [
    "dataset = datasets.load_dataset(\"../data/finan_news_senti_data\", split=[\"train\", \"test\"])\n",
    "dataset[0][0]"
   ]
  },
  {
   "cell_type": "code",
   "execution_count": 5,
   "id": "d0259875",
   "metadata": {},
   "outputs": [
    {
     "name": "stderr",
     "output_type": "stream",
     "text": [
      "Map:   0%|          | 0/2400 [00:00<?, ? examples/s]"
     ]
    },
    {
     "name": "stderr",
     "output_type": "stream",
     "text": [
      "Map: 100%|██████████| 2400/2400 [00:01<00:00, 1786.76 examples/s]\n"
     ]
    }
   ],
   "source": [
    "# 筛选\n",
    "# dataset = [part_data.filter(lambda example: example[\"task\"]==\"FINFE\" and (\"积极\" in example[\"output\"] or \"消极\" in example[\"output\"]) for part_data in dataset]\n",
    "\n",
    "# input生成\n",
    "def tokenize_and_numericalize_example(example, tokenizer):\n",
    "    ids = tokenizer(example[\"正文\"], truncation=True)[\"input_ids\"]\n",
    "    return {\"ids\": ids, \"label\": example['正负面']}\n",
    "\n",
    "train_data = dataset[0].map(\n",
    "    tokenize_and_numericalize_example, fn_kwargs={\"tokenizer\": tokenizer}\n",
    ")\n",
    "test_data = dataset[1].map(\n",
    "    tokenize_and_numericalize_example, fn_kwargs={\"tokenizer\": tokenizer}\n",
    ")"
   ]
  },
  {
   "cell_type": "code",
   "execution_count": 6,
   "id": "3cdaa10f",
   "metadata": {},
   "outputs": [],
   "source": [
    "pad_index = tokenizer.pad_token_id"
   ]
  },
  {
   "cell_type": "code",
   "execution_count": 7,
   "id": "8532b705",
   "metadata": {},
   "outputs": [],
   "source": [
    "test_size = 0.25\n",
    "\n",
    "train_valid_data = train_data.train_test_split(test_size=test_size)\n",
    "train_data = train_valid_data[\"train\"]\n",
    "valid_data = train_valid_data[\"test\"]"
   ]
  },
  {
   "cell_type": "code",
   "execution_count": 8,
   "id": "cc54e1eb",
   "metadata": {},
   "outputs": [],
   "source": [
    "train_data = train_data.with_format(type=\"torch\", columns=[\"ids\", \"label\"])\n",
    "valid_data = valid_data.with_format(type=\"torch\", columns=[\"ids\", \"label\"])\n",
    "test_data = test_data.with_format(type=\"torch\", columns=[\"ids\", \"label\"])"
   ]
  },
  {
   "cell_type": "code",
   "execution_count": 9,
   "id": "bea43ba0",
   "metadata": {},
   "outputs": [],
   "source": [
    "def get_collate_fn(pad_index):\n",
    "    def collate_fn(batch):\n",
    "        batch_ids = [i[\"ids\"] for i in batch]\n",
    "        batch_ids = nn.utils.rnn.pad_sequence(\n",
    "            batch_ids, padding_value=pad_index, batch_first=True\n",
    "        )\n",
    "        batch_label = [i[\"label\"] for i in batch]\n",
    "        batch_label = torch.stack(batch_label)\n",
    "        batch = {\"ids\": batch_ids, \"label\": batch_label}\n",
    "        return batch\n",
    "\n",
    "    return collate_fn"
   ]
  },
  {
   "cell_type": "code",
   "execution_count": 10,
   "id": "ea2176bb",
   "metadata": {},
   "outputs": [],
   "source": [
    "def get_data_loader(dataset, batch_size, pad_index, shuffle=False):\n",
    "    collate_fn = get_collate_fn(pad_index)\n",
    "    data_loader = torch.utils.data.DataLoader(\n",
    "        dataset=dataset,\n",
    "        batch_size=batch_size,\n",
    "        collate_fn=collate_fn,\n",
    "        shuffle=shuffle,\n",
    "    )\n",
    "    return data_loader"
   ]
  },
  {
   "cell_type": "code",
   "execution_count": 11,
   "id": "dce162ba",
   "metadata": {},
   "outputs": [],
   "source": [
    "batch_size = 8\n",
    "\n",
    "train_data_loader = get_data_loader(train_data, batch_size, pad_index, shuffle=True)\n",
    "valid_data_loader = get_data_loader(valid_data, batch_size, pad_index)\n",
    "test_data_loader = get_data_loader(test_data, batch_size, pad_index)"
   ]
  },
  {
   "cell_type": "code",
   "execution_count": 12,
   "id": "01a637ac",
   "metadata": {},
   "outputs": [],
   "source": [
    "# class Transformer(nn.Module):\n",
    "#     def __init__(self, transformer, output_dim, freeze):\n",
    "#         super().__init__()\n",
    "#         self.transformer = transformer\n",
    "#         hidden_dim = transformer.config.hidden_size\n",
    "#         self.fc = nn.Linear(hidden_dim, output_dim)\n",
    "#         if freeze:\n",
    "#             for param in self.transformer.parameters():\n",
    "#                 param.requires_grad = False\n",
    "\n",
    "#     def forward(self, ids, attention_mask=None):\n",
    "#         # ids = [batch size, seq len]\n",
    "#         output = self.transformer(ids, output_attentions=False, attention_mask = attention_mask)\n",
    "#         hidden = output.last_hidden_state\n",
    "#         # hidden = [batch size, seq len, hidden dim]\n",
    "#         # attention = output.attentions[-1]\n",
    "#         # attention = [batch size, n heads, seq len, seq len]\n",
    "#         cls_hidden = hidden[:, 0, :]\n",
    "#         prediction = self.fc(torch.tanh(cls_hidden))\n",
    "#         # prediction = [batch size, output dim]\n",
    "#         return prediction"
   ]
  },
  {
   "cell_type": "code",
   "execution_count": 14,
   "id": "ff995192",
   "metadata": {},
   "outputs": [],
   "source": [
    "output_dim = 2\n",
    "freeze = True\n",
    "transformer = transformers.AutoModel.from_pretrained(transformer_name)\n",
    "model = BertForSequenceClassification(transformer, output_dim, freeze)"
   ]
  },
  {
   "cell_type": "code",
   "execution_count": 16,
   "id": "4f57a268",
   "metadata": {},
   "outputs": [
    {
     "data": {
      "text/plain": [
       "BertForSequenceClassification(\n",
       "  (bert): BertModel(\n",
       "    (embeddings): BertEmbeddings(\n",
       "      (word_embeddings): Embedding(21128, 768, padding_idx=0)\n",
       "      (position_embeddings): Embedding(512, 768)\n",
       "      (token_type_embeddings): Embedding(2, 768)\n",
       "      (LayerNorm): LayerNorm((768,), eps=1e-12, elementwise_affine=True)\n",
       "      (dropout): Dropout(p=0.1, inplace=False)\n",
       "    )\n",
       "    (encoder): BertEncoder(\n",
       "      (layer): ModuleList(\n",
       "        (0-11): 12 x BertLayer(\n",
       "          (attention): BertAttention(\n",
       "            (self): BertSdpaSelfAttention(\n",
       "              (query): Linear(in_features=768, out_features=768, bias=True)\n",
       "              (key): Linear(in_features=768, out_features=768, bias=True)\n",
       "              (value): Linear(in_features=768, out_features=768, bias=True)\n",
       "              (dropout): Dropout(p=0.1, inplace=False)\n",
       "            )\n",
       "            (output): BertSelfOutput(\n",
       "              (dense): Linear(in_features=768, out_features=768, bias=True)\n",
       "              (LayerNorm): LayerNorm((768,), eps=1e-12, elementwise_affine=True)\n",
       "              (dropout): Dropout(p=0.1, inplace=False)\n",
       "            )\n",
       "          )\n",
       "          (intermediate): BertIntermediate(\n",
       "            (dense): Linear(in_features=768, out_features=3072, bias=True)\n",
       "            (intermediate_act_fn): GELUActivation()\n",
       "          )\n",
       "          (output): BertOutput(\n",
       "            (dense): Linear(in_features=3072, out_features=768, bias=True)\n",
       "            (LayerNorm): LayerNorm((768,), eps=1e-12, elementwise_affine=True)\n",
       "            (dropout): Dropout(p=0.1, inplace=False)\n",
       "          )\n",
       "        )\n",
       "      )\n",
       "    )\n",
       "    (pooler): BertPooler(\n",
       "      (dense): Linear(in_features=768, out_features=768, bias=True)\n",
       "      (activation): Tanh()\n",
       "    )\n",
       "  )\n",
       "  (fc): Linear(in_features=768, out_features=2, bias=True)\n",
       ")"
      ]
     },
     "execution_count": 16,
     "metadata": {},
     "output_type": "execute_result"
    }
   ],
   "source": [
    "model"
   ]
  },
  {
   "cell_type": "code",
   "execution_count": 15,
   "id": "f15efc07",
   "metadata": {},
   "outputs": [
    {
     "name": "stdout",
     "output_type": "stream",
     "text": [
      "The model has 1,538 trainable parameters\n"
     ]
    }
   ],
   "source": [
    "def count_parameters(model):\n",
    "    return sum(p.numel() for p in model.parameters() if p.requires_grad)\n",
    "print(f\"The model has {count_parameters(model):,} trainable parameters\")"
   ]
  },
  {
   "cell_type": "code",
   "execution_count": 15,
   "id": "98f54638",
   "metadata": {},
   "outputs": [],
   "source": [
    "def train(data_loader, model, criterion, optimizer, device):\n",
    "    model.train()\n",
    "    epoch_losses = []\n",
    "    epoch_accs = []\n",
    "    for batch in tqdm.tqdm(data_loader, desc=\"training...\"):\n",
    "        ids = batch[\"ids\"].to(device)\n",
    "        label = batch[\"label\"].to(device)\n",
    "        attention_mask = (ids != pad_index).float().to(device)  # 生成attention_mask\n",
    "        # print(ids.shape,attention_mask.shape)\n",
    "        prediction = model(ids,attention_mask=attention_mask)\n",
    "        loss = criterion(prediction, label)\n",
    "        accuracy = get_accuracy(prediction, label)\n",
    "        optimizer.zero_grad()\n",
    "        loss.backward()\n",
    "        optimizer.step()\n",
    "        epoch_losses.append(loss.item())\n",
    "        epoch_accs.append(accuracy.item())\n",
    "        \n",
    "    return np.mean(epoch_losses), np.mean(epoch_accs)"
   ]
  },
  {
   "cell_type": "code",
   "execution_count": 16,
   "id": "df0424bd",
   "metadata": {},
   "outputs": [],
   "source": [
    "def evaluate(data_loader, model, criterion, device):\n",
    "    model.eval()\n",
    "    epoch_losses = []\n",
    "    epoch_accs = []\n",
    "    all_labels = []\n",
    "    all_predictions = []\n",
    "    with torch.no_grad():\n",
    "        for batch in tqdm.tqdm(data_loader, desc=\"evaluating...\"):\n",
    "            ids = batch[\"ids\"].to(device)\n",
    "            label = batch[\"label\"].to(device)\n",
    "            attention_mask = (ids != pad_index).float().to(device)  # 生成attention_mask\n",
    "            prediction = model(ids,attention_mask=attention_mask)\n",
    "            loss = criterion(prediction, label)\n",
    "            accuracy = get_accuracy(prediction, label)\n",
    "            epoch_losses.append(loss.item())\n",
    "            epoch_accs.append(accuracy.item())\n",
    "            all_labels.extend(label.cpu().numpy())\n",
    "            all_predictions.extend(torch.argmax(prediction, dim=1).cpu().numpy())\n",
    "    \n",
    "    f1 = f1_score(all_labels, all_predictions, average='weighted')\n",
    "    return np.mean(epoch_losses), np.mean(epoch_accs), f1"
   ]
  },
  {
   "cell_type": "code",
   "execution_count": 17,
   "id": "34331854",
   "metadata": {},
   "outputs": [],
   "source": [
    "def get_accuracy(prediction, label):\n",
    "    batch_size, _ = prediction.shape\n",
    "    predicted_classes = prediction.argmax(dim=-1)\n",
    "    correct_predictions = predicted_classes.eq(label).sum()\n",
    "    accuracy = correct_predictions / batch_size\n",
    "    return accuracy"
   ]
  },
  {
   "cell_type": "code",
   "execution_count": 18,
   "id": "a1829f19",
   "metadata": {},
   "outputs": [],
   "source": [
    "def save_checkpoints(model,path,file_name,uid):\n",
    "    torch.save(model.state_dict(), os.path.join(path,uid+\"_\"+file_name))"
   ]
  },
  {
   "cell_type": "code",
   "execution_count": 19,
   "id": "1ed7f815",
   "metadata": {},
   "outputs": [],
   "source": [
    "# 超参数    \n",
    "criterion = nn.CrossEntropyLoss()   # nn.CrossEntropyLoss()  nn.MSELoss() \n",
    "lr = 3e-5\n",
    "optimizer = optim.AdamW(model.parameters(), lr=lr)\n",
    "## warm up + 余弦退火\n",
    "cos_epochs = 65\n",
    "warmup_epochs = 5\n",
    "n_epochs = cos_epochs + warmup_epochs\n",
    "def LR_rule(epoch,max_lr,min_lr,warmup_epochs,cos_epochs):\n",
    "    if epoch < warmup_epochs:\n",
    "        return epoch / warmup_epochs \n",
    "    else:\n",
    "        x = epoch-warmup_epochs\n",
    "        A = (1 - min_lr/max_lr)/2\n",
    "        bias = (1 + min_lr/max_lr)/2\n",
    "        return  A*math.cos(x/cos_epochs*math.pi)+bias\n",
    "scheduler = torch.optim.lr_scheduler.LambdaLR(\n",
    "                    optimizer,\n",
    "                    lr_lambda=partial(LR_rule,max_lr=lr,min_lr=1e-5,warmup_epochs=warmup_epochs,cos_epochs=cos_epochs),\n",
    "                    last_epoch=-1\n",
    "            )\n",
    "\n",
    "# info cache\n",
    "metrics = collections.defaultdict(list) \n",
    "best_valid_loss = float(\"inf\") \n",
    "uid = datetime.datetime.now().strftime('%y%m%d_%H%M')  # 获取当前的年月日时分，只保留年份的最后两位"
   ]
  },
  {
   "cell_type": "code",
   "execution_count": 20,
   "id": "6fc62ff8",
   "metadata": {},
   "outputs": [],
   "source": [
    "device = torch.device(\"cuda\" if torch.cuda.is_available() else \"cpu\")\n",
    "model = model.to(device)\n",
    "criterion = criterion.to(device)"
   ]
  },
  {
   "cell_type": "code",
   "execution_count": 21,
   "id": "df33ac5d",
   "metadata": {},
   "outputs": [
    {
     "name": "stderr",
     "output_type": "stream",
     "text": [
      "training...: 100%|██████████| 1288/1288 [00:50<00:00, 25.63it/s]\n",
      "evaluating...: 100%|██████████| 430/430 [00:16<00:00, 26.35it/s]\n"
     ]
    },
    {
     "name": "stdout",
     "output_type": "stream",
     "text": [
      "epoch: 0\n",
      "Current learning rate: 6e-06\n",
      "train_loss: 0.693, train_acc: 0.531\n",
      "valid_loss: 0.664, valid_acc: 0.622\n",
      "valid_f1: 0.621\n"
     ]
    },
    {
     "name": "stderr",
     "output_type": "stream",
     "text": [
      "training...: 100%|██████████| 1288/1288 [00:49<00:00, 26.07it/s]\n",
      "evaluating...: 100%|██████████| 430/430 [00:16<00:00, 26.14it/s]\n"
     ]
    },
    {
     "name": "stdout",
     "output_type": "stream",
     "text": [
      "epoch: 1\n",
      "Current learning rate: 1.2e-05\n",
      "train_loss: 0.645, train_acc: 0.663\n",
      "valid_loss: 0.602, valid_acc: 0.760\n",
      "valid_f1: 0.760\n"
     ]
    },
    {
     "name": "stderr",
     "output_type": "stream",
     "text": [
      "training...: 100%|██████████| 1288/1288 [00:49<00:00, 25.98it/s]\n",
      "evaluating...: 100%|██████████| 430/430 [00:16<00:00, 26.03it/s]\n"
     ]
    },
    {
     "name": "stdout",
     "output_type": "stream",
     "text": [
      "epoch: 2\n",
      "Current learning rate: 1.8e-05\n",
      "train_loss: 0.587, train_acc: 0.755\n",
      "valid_loss: 0.541, valid_acc: 0.793\n",
      "valid_f1: 0.794\n"
     ]
    },
    {
     "name": "stderr",
     "output_type": "stream",
     "text": [
      "training...: 100%|██████████| 1288/1288 [00:49<00:00, 26.00it/s]\n",
      "evaluating...: 100%|██████████| 430/430 [00:16<00:00, 26.06it/s]\n"
     ]
    },
    {
     "name": "stdout",
     "output_type": "stream",
     "text": [
      "epoch: 3\n",
      "Current learning rate: 2.4e-05\n",
      "train_loss: 0.535, train_acc: 0.784\n",
      "valid_loss: 0.492, valid_acc: 0.815\n",
      "valid_f1: 0.815\n"
     ]
    },
    {
     "name": "stderr",
     "output_type": "stream",
     "text": [
      "training...: 100%|██████████| 1288/1288 [00:49<00:00, 26.09it/s]\n",
      "evaluating...: 100%|██████████| 430/430 [00:16<00:00, 26.04it/s]\n"
     ]
    },
    {
     "name": "stdout",
     "output_type": "stream",
     "text": [
      "epoch: 4\n",
      "Current learning rate: 3e-05\n",
      "train_loss: 0.493, train_acc: 0.800\n",
      "valid_loss: 0.454, valid_acc: 0.831\n",
      "valid_f1: 0.832\n"
     ]
    },
    {
     "name": "stderr",
     "output_type": "stream",
     "text": [
      "training...: 100%|██████████| 1288/1288 [00:49<00:00, 26.24it/s]\n",
      "evaluating...: 100%|██████████| 430/430 [00:16<00:00, 26.06it/s]\n"
     ]
    },
    {
     "name": "stdout",
     "output_type": "stream",
     "text": [
      "epoch: 5\n",
      "Current learning rate: 2.998832226832327e-05\n",
      "train_loss: 0.464, train_acc: 0.815\n",
      "valid_loss: 0.429, valid_acc: 0.840\n",
      "valid_f1: 0.841\n"
     ]
    },
    {
     "name": "stderr",
     "output_type": "stream",
     "text": [
      "training...: 100%|██████████| 1288/1288 [00:48<00:00, 26.48it/s]\n",
      "evaluating...: 100%|██████████| 430/430 [00:16<00:00, 26.08it/s]\n"
     ]
    },
    {
     "name": "stdout",
     "output_type": "stream",
     "text": [
      "epoch: 6\n",
      "Current learning rate: 2.9953316347176488e-05\n",
      "train_loss: 0.443, train_acc: 0.820\n",
      "valid_loss: 0.413, valid_acc: 0.842\n",
      "valid_f1: 0.843\n"
     ]
    },
    {
     "name": "stderr",
     "output_type": "stream",
     "text": [
      "training...: 100%|██████████| 1288/1288 [00:48<00:00, 26.32it/s]\n",
      "evaluating...: 100%|██████████| 430/430 [00:16<00:00, 26.05it/s]\n"
     ]
    },
    {
     "name": "stdout",
     "output_type": "stream",
     "text": [
      "epoch: 7\n",
      "Current learning rate: 2.9895063994510514e-05\n",
      "train_loss: 0.430, train_acc: 0.827\n",
      "valid_loss: 0.399, valid_acc: 0.852\n",
      "valid_f1: 0.853\n"
     ]
    },
    {
     "name": "stderr",
     "output_type": "stream",
     "text": [
      "training...: 100%|██████████| 1288/1288 [00:49<00:00, 26.18it/s]\n",
      "evaluating...: 100%|██████████| 430/430 [00:16<00:00, 26.07it/s]\n"
     ]
    },
    {
     "name": "stdout",
     "output_type": "stream",
     "text": [
      "epoch: 8\n",
      "Current learning rate: 2.9813701261394135e-05\n",
      "train_loss: 0.421, train_acc: 0.829\n",
      "valid_loss: 0.390, valid_acc: 0.856\n",
      "valid_f1: 0.856\n"
     ]
    },
    {
     "name": "stderr",
     "output_type": "stream",
     "text": [
      "training...: 100%|██████████| 1288/1288 [00:49<00:00, 26.14it/s]\n",
      "evaluating...: 100%|██████████| 430/430 [00:16<00:00, 26.06it/s]\n"
     ]
    },
    {
     "name": "stdout",
     "output_type": "stream",
     "text": [
      "epoch: 9\n",
      "Current learning rate: 2.970941817426052e-05\n",
      "train_loss: 0.409, train_acc: 0.835\n",
      "valid_loss: 0.382, valid_acc: 0.858\n",
      "valid_f1: 0.859\n"
     ]
    },
    {
     "name": "stderr",
     "output_type": "stream",
     "text": [
      "training...: 100%|██████████| 1288/1288 [00:48<00:00, 26.68it/s]\n",
      "evaluating...: 100%|██████████| 430/430 [00:16<00:00, 26.06it/s]\n"
     ]
    },
    {
     "name": "stdout",
     "output_type": "stream",
     "text": [
      "epoch: 10\n",
      "Current learning rate: 2.9582458291091663e-05\n",
      "train_loss: 0.403, train_acc: 0.834\n",
      "valid_loss: 0.374, valid_acc: 0.861\n",
      "valid_f1: 0.861\n"
     ]
    },
    {
     "name": "stderr",
     "output_type": "stream",
     "text": [
      "training...: 100%|██████████| 1288/1288 [00:49<00:00, 26.05it/s]\n",
      "evaluating...: 100%|██████████| 430/430 [00:16<00:00, 26.09it/s]\n"
     ]
    },
    {
     "name": "stdout",
     "output_type": "stream",
     "text": [
      "epoch: 11\n",
      "Current learning rate: 2.9433118132577435e-05\n",
      "train_loss: 0.401, train_acc: 0.832\n",
      "valid_loss: 0.369, valid_acc: 0.862\n",
      "valid_f1: 0.863\n"
     ]
    },
    {
     "name": "stderr",
     "output_type": "stream",
     "text": [
      "training...: 100%|██████████| 1288/1288 [00:48<00:00, 26.35it/s]\n",
      "evaluating...: 100%|██████████| 430/430 [00:16<00:00, 26.04it/s]\n"
     ]
    },
    {
     "name": "stdout",
     "output_type": "stream",
     "text": [
      "epoch: 12\n",
      "Current learning rate: 2.9261746489577766e-05\n",
      "train_loss: 0.390, train_acc: 0.843\n",
      "valid_loss: 0.364, valid_acc: 0.866\n",
      "valid_f1: 0.866\n"
     ]
    },
    {
     "name": "stderr",
     "output_type": "stream",
     "text": [
      "training...: 100%|██████████| 1288/1288 [00:49<00:00, 26.12it/s]\n",
      "evaluating...: 100%|██████████| 430/430 [00:16<00:00, 26.05it/s]\n"
     ]
    },
    {
     "name": "stdout",
     "output_type": "stream",
     "text": [
      "epoch: 13\n",
      "Current learning rate: 2.9068743608505453e-05\n",
      "train_loss: 0.389, train_acc: 0.843\n",
      "valid_loss: 0.360, valid_acc: 0.865\n",
      "valid_f1: 0.865\n"
     ]
    },
    {
     "name": "stderr",
     "output_type": "stream",
     "text": [
      "training...: 100%|██████████| 1288/1288 [00:49<00:00, 25.98it/s]\n",
      "evaluating...: 100%|██████████| 430/430 [00:16<00:00, 26.07it/s]\n"
     ]
    },
    {
     "name": "stdout",
     "output_type": "stream",
     "text": [
      "epoch: 14\n",
      "Current learning rate: 2.88545602565321e-05\n",
      "train_loss: 0.386, train_acc: 0.844\n",
      "valid_loss: 0.356, valid_acc: 0.867\n",
      "valid_f1: 0.867\n"
     ]
    },
    {
     "name": "stderr",
     "output_type": "stream",
     "text": [
      "training...: 100%|██████████| 1288/1288 [00:48<00:00, 26.30it/s]\n",
      "evaluating...: 100%|██████████| 430/430 [00:16<00:00, 26.09it/s]\n"
     ]
    },
    {
     "name": "stdout",
     "output_type": "stream",
     "text": [
      "epoch: 15\n",
      "Current learning rate: 2.8619696668800494e-05\n",
      "train_loss: 0.381, train_acc: 0.843\n",
      "valid_loss: 0.352, valid_acc: 0.868\n",
      "valid_f1: 0.869\n"
     ]
    },
    {
     "name": "stderr",
     "output_type": "stream",
     "text": [
      "training...: 100%|██████████| 1288/1288 [00:49<00:00, 25.94it/s]\n",
      "evaluating...: 100%|██████████| 430/430 [00:16<00:00, 26.08it/s]\n"
     ]
    },
    {
     "name": "stdout",
     "output_type": "stream",
     "text": [
      "epoch: 16\n",
      "Current learning rate: 2.836470138010227e-05\n",
      "train_loss: 0.380, train_acc: 0.844\n",
      "valid_loss: 0.350, valid_acc: 0.869\n",
      "valid_f1: 0.869\n"
     ]
    },
    {
     "name": "stderr",
     "output_type": "stream",
     "text": [
      "training...: 100%|██████████| 1288/1288 [00:49<00:00, 26.08it/s]\n",
      "evaluating...: 100%|██████████| 430/430 [00:16<00:00, 26.08it/s]\n"
     ]
    },
    {
     "name": "stdout",
     "output_type": "stream",
     "text": [
      "epoch: 17\n",
      "Current learning rate: 2.8090169943749476e-05\n",
      "train_loss: 0.375, train_acc: 0.847\n",
      "valid_loss: 0.347, valid_acc: 0.870\n",
      "valid_f1: 0.871\n"
     ]
    },
    {
     "name": "stderr",
     "output_type": "stream",
     "text": [
      "training...: 100%|██████████| 1288/1288 [00:48<00:00, 26.31it/s]\n",
      "evaluating...: 100%|██████████| 430/430 [00:16<00:00, 26.06it/s]\n"
     ]
    },
    {
     "name": "stdout",
     "output_type": "stream",
     "text": [
      "epoch: 18\n",
      "Current learning rate: 2.7796743540632228e-05\n",
      "train_loss: 0.369, train_acc: 0.850\n",
      "valid_loss: 0.344, valid_acc: 0.869\n",
      "valid_f1: 0.869\n"
     ]
    },
    {
     "name": "stderr",
     "output_type": "stream",
     "text": [
      "training...: 100%|██████████| 1288/1288 [00:49<00:00, 26.25it/s]\n",
      "evaluating...: 100%|██████████| 430/430 [00:16<00:00, 26.06it/s]\n"
     ]
    },
    {
     "name": "stdout",
     "output_type": "stream",
     "text": [
      "epoch: 19\n",
      "Current learning rate: 2.7485107481711013e-05\n",
      "train_loss: 0.369, train_acc: 0.847\n",
      "valid_loss: 0.342, valid_acc: 0.873\n",
      "valid_f1: 0.874\n"
     ]
    },
    {
     "name": "stderr",
     "output_type": "stream",
     "text": [
      "training...: 100%|██████████| 1288/1288 [00:49<00:00, 25.99it/s]\n",
      "evaluating...: 100%|██████████| 430/430 [00:16<00:00, 26.05it/s]\n"
     ]
    },
    {
     "name": "stdout",
     "output_type": "stream",
     "text": [
      "epoch: 20\n",
      "Current learning rate: 2.7155989607441213e-05\n",
      "train_loss: 0.369, train_acc: 0.847\n",
      "valid_loss: 0.339, valid_acc: 0.874\n",
      "valid_f1: 0.874\n"
     ]
    },
    {
     "name": "stderr",
     "output_type": "stream",
     "text": [
      "training...: 100%|██████████| 1288/1288 [00:49<00:00, 25.77it/s]\n",
      "evaluating...: 100%|██████████| 430/430 [00:16<00:00, 26.08it/s]\n"
     ]
    },
    {
     "name": "stdout",
     "output_type": "stream",
     "text": [
      "epoch: 21\n",
      "Current learning rate: 2.6810158587867972e-05\n",
      "train_loss: 0.366, train_acc: 0.846\n",
      "valid_loss: 0.337, valid_acc: 0.874\n",
      "valid_f1: 0.874\n"
     ]
    },
    {
     "name": "stderr",
     "output_type": "stream",
     "text": [
      "training...: 100%|██████████| 1288/1288 [00:49<00:00, 25.88it/s]\n",
      "evaluating...: 100%|██████████| 430/430 [00:16<00:00, 26.07it/s]\n"
     ]
    },
    {
     "name": "stdout",
     "output_type": "stream",
     "text": [
      "epoch: 22\n",
      "Current learning rate: 2.6448422127361706e-05\n",
      "train_loss: 0.363, train_acc: 0.852\n",
      "valid_loss: 0.336, valid_acc: 0.876\n",
      "valid_f1: 0.875\n"
     ]
    },
    {
     "name": "stderr",
     "output_type": "stream",
     "text": [
      "training...: 100%|██████████| 1288/1288 [00:49<00:00, 25.99it/s]\n",
      "evaluating...: 100%|██████████| 430/430 [00:16<00:00, 26.08it/s]\n"
     ]
    },
    {
     "name": "stdout",
     "output_type": "stream",
     "text": [
      "epoch: 23\n",
      "Current learning rate: 2.6071625078187116e-05\n",
      "train_loss: 0.362, train_acc: 0.855\n",
      "valid_loss: 0.334, valid_acc: 0.874\n",
      "valid_f1: 0.874\n"
     ]
    },
    {
     "name": "stderr",
     "output_type": "stream",
     "text": [
      "training...: 100%|██████████| 1288/1288 [00:49<00:00, 26.00it/s]\n",
      "evaluating...: 100%|██████████| 430/430 [00:16<00:00, 26.07it/s]\n"
     ]
    },
    {
     "name": "stdout",
     "output_type": "stream",
     "text": [
      "epoch: 24\n",
      "Current learning rate: 2.568064746731156e-05\n",
      "train_loss: 0.359, train_acc: 0.854\n",
      "valid_loss: 0.333, valid_acc: 0.873\n",
      "valid_f1: 0.874\n"
     ]
    },
    {
     "name": "stderr",
     "output_type": "stream",
     "text": [
      "training...: 100%|██████████| 1288/1288 [00:49<00:00, 26.28it/s]\n",
      "evaluating...: 100%|██████████| 430/430 [00:16<00:00, 26.04it/s]\n"
     ]
    },
    {
     "name": "stdout",
     "output_type": "stream",
     "text": [
      "epoch: 25\n",
      "Current learning rate: 2.527640244106133e-05\n",
      "train_loss: 0.361, train_acc: 0.851\n",
      "valid_loss: 0.331, valid_acc: 0.877\n",
      "valid_f1: 0.877\n"
     ]
    },
    {
     "name": "stderr",
     "output_type": "stream",
     "text": [
      "training...: 100%|██████████| 1288/1288 [00:49<00:00, 25.95it/s]\n",
      "evaluating...: 100%|██████████| 430/430 [00:16<00:00, 26.08it/s]\n"
     ]
    },
    {
     "name": "stdout",
     "output_type": "stream",
     "text": [
      "epoch: 26\n",
      "Current learning rate: 2.4859834132426064e-05\n",
      "train_loss: 0.361, train_acc: 0.850\n",
      "valid_loss: 0.329, valid_acc: 0.876\n",
      "valid_f1: 0.876\n"
     ]
    },
    {
     "name": "stderr",
     "output_type": "stream",
     "text": [
      "training...: 100%|██████████| 1288/1288 [00:49<00:00, 26.09it/s]\n",
      "evaluating...: 100%|██████████| 430/430 [00:16<00:00, 26.07it/s]\n"
     ]
    },
    {
     "name": "stdout",
     "output_type": "stream",
     "text": [
      "epoch: 27\n",
      "Current learning rate: 2.4431915455992415e-05\n",
      "train_loss: 0.359, train_acc: 0.851\n",
      "valid_loss: 0.328, valid_acc: 0.877\n",
      "valid_f1: 0.877\n"
     ]
    },
    {
     "name": "stderr",
     "output_type": "stream",
     "text": [
      "training...: 100%|██████████| 1288/1288 [00:49<00:00, 25.97it/s]\n",
      "evaluating...: 100%|██████████| 430/430 [00:16<00:00, 26.07it/s]\n"
     ]
    },
    {
     "name": "stdout",
     "output_type": "stream",
     "text": [
      "epoch: 28\n",
      "Current learning rate: 2.3993645835656956e-05\n",
      "train_loss: 0.356, train_acc: 0.851\n",
      "valid_loss: 0.327, valid_acc: 0.876\n",
      "valid_f1: 0.876\n"
     ]
    },
    {
     "name": "stderr",
     "output_type": "stream",
     "text": [
      "training...: 100%|██████████| 1288/1288 [00:49<00:00, 26.08it/s]\n",
      "evaluating...: 100%|██████████| 430/430 [00:16<00:00, 26.06it/s]\n"
     ]
    },
    {
     "name": "stdout",
     "output_type": "stream",
     "text": [
      "epoch: 29\n",
      "Current learning rate: 2.3546048870425357e-05\n",
      "train_loss: 0.357, train_acc: 0.851\n",
      "valid_loss: 0.326, valid_acc: 0.879\n",
      "valid_f1: 0.879\n"
     ]
    },
    {
     "name": "stderr",
     "output_type": "stream",
     "text": [
      "training...: 100%|██████████| 1288/1288 [00:49<00:00, 26.05it/s]\n",
      "evaluating...: 100%|██████████| 430/430 [00:16<00:00, 26.08it/s]\n"
     ]
    },
    {
     "name": "stdout",
     "output_type": "stream",
     "text": [
      "epoch: 30\n",
      "Current learning rate: 2.309016994374948e-05\n",
      "train_loss: 0.355, train_acc: 0.856\n",
      "valid_loss: 0.325, valid_acc: 0.878\n",
      "valid_f1: 0.877\n"
     ]
    },
    {
     "name": "stderr",
     "output_type": "stream",
     "text": [
      "training...: 100%|██████████| 1288/1288 [00:49<00:00, 26.09it/s]\n",
      "evaluating...: 100%|██████████| 430/430 [00:16<00:00, 26.08it/s]\n"
     ]
    },
    {
     "name": "stdout",
     "output_type": "stream",
     "text": [
      "epoch: 31\n",
      "Current learning rate: 2.262707378198587e-05\n",
      "train_loss: 0.351, train_acc: 0.855\n",
      "valid_loss: 0.324, valid_acc: 0.879\n",
      "valid_f1: 0.879\n"
     ]
    },
    {
     "name": "stderr",
     "output_type": "stream",
     "text": [
      "training...: 100%|██████████| 1288/1288 [00:49<00:00, 26.03it/s]\n",
      "evaluating...: 100%|██████████| 430/430 [00:16<00:00, 26.06it/s]\n"
     ]
    },
    {
     "name": "stdout",
     "output_type": "stream",
     "text": [
      "epoch: 32\n",
      "Current learning rate: 2.2157841967678064e-05\n",
      "train_loss: 0.352, train_acc: 0.855\n",
      "valid_loss: 0.323, valid_acc: 0.879\n",
      "valid_f1: 0.879\n"
     ]
    },
    {
     "name": "stderr",
     "output_type": "stream",
     "text": [
      "training...: 100%|██████████| 1288/1288 [00:49<00:00, 26.12it/s]\n",
      "evaluating...: 100%|██████████| 430/430 [00:16<00:00, 26.08it/s]\n"
     ]
    },
    {
     "name": "stdout",
     "output_type": "stream",
     "text": [
      "epoch: 33\n",
      "Current learning rate: 2.168357041347039e-05\n",
      "train_loss: 0.351, train_acc: 0.857\n",
      "valid_loss: 0.322, valid_acc: 0.881\n",
      "valid_f1: 0.881\n"
     ]
    },
    {
     "name": "stderr",
     "output_type": "stream",
     "text": [
      "training...: 100%|██████████| 1288/1288 [00:49<00:00, 26.08it/s]\n",
      "evaluating...: 100%|██████████| 430/430 [00:16<00:00, 26.08it/s]\n"
     ]
    },
    {
     "name": "stdout",
     "output_type": "stream",
     "text": [
      "epoch: 34\n",
      "Current learning rate: 2.1205366802553234e-05\n",
      "train_loss: 0.349, train_acc: 0.859\n",
      "valid_loss: 0.321, valid_acc: 0.881\n",
      "valid_f1: 0.881\n"
     ]
    },
    {
     "name": "stderr",
     "output_type": "stream",
     "text": [
      "training...: 100%|██████████| 1288/1288 [00:49<00:00, 26.19it/s]\n",
      "evaluating...: 100%|██████████| 430/430 [00:16<00:00, 26.06it/s]\n"
     ]
    },
    {
     "name": "stdout",
     "output_type": "stream",
     "text": [
      "epoch: 35\n",
      "Current learning rate: 2.0724348001617625e-05\n",
      "train_loss: 0.349, train_acc: 0.857\n",
      "valid_loss: 0.321, valid_acc: 0.881\n",
      "valid_f1: 0.881\n"
     ]
    },
    {
     "name": "stderr",
     "output_type": "stream",
     "text": [
      "training...: 100%|██████████| 1288/1288 [00:49<00:00, 25.95it/s]\n",
      "evaluating...: 100%|██████████| 430/430 [00:16<00:00, 26.08it/s]\n"
     ]
    },
    {
     "name": "stdout",
     "output_type": "stream",
     "text": [
      "epoch: 36\n",
      "Current learning rate: 2.0241637452361324e-05\n",
      "train_loss: 0.350, train_acc: 0.854\n",
      "valid_loss: 0.320, valid_acc: 0.882\n",
      "valid_f1: 0.882\n"
     ]
    },
    {
     "name": "stderr",
     "output_type": "stream",
     "text": [
      "training...: 100%|██████████| 1288/1288 [00:48<00:00, 26.29it/s]\n",
      "evaluating...: 100%|██████████| 430/430 [00:16<00:00, 26.07it/s]\n"
     ]
    },
    {
     "name": "stdout",
     "output_type": "stream",
     "text": [
      "epoch: 37\n",
      "Current learning rate: 1.9758362547638683e-05\n",
      "train_loss: 0.347, train_acc: 0.858\n",
      "valid_loss: 0.319, valid_acc: 0.882\n",
      "valid_f1: 0.882\n"
     ]
    },
    {
     "name": "stderr",
     "output_type": "stream",
     "text": [
      "training...: 100%|██████████| 1288/1288 [00:49<00:00, 26.06it/s]\n",
      "evaluating...: 100%|██████████| 430/430 [00:16<00:00, 26.08it/s]\n"
     ]
    },
    {
     "name": "stdout",
     "output_type": "stream",
     "text": [
      "epoch: 38\n",
      "Current learning rate: 1.9275651998382378e-05\n",
      "train_loss: 0.348, train_acc: 0.860\n",
      "valid_loss: 0.319, valid_acc: 0.883\n",
      "valid_f1: 0.882\n"
     ]
    },
    {
     "name": "stderr",
     "output_type": "stream",
     "text": [
      "training...: 100%|██████████| 1288/1288 [00:49<00:00, 25.99it/s]\n",
      "evaluating...: 100%|██████████| 430/430 [00:16<00:00, 26.06it/s]\n"
     ]
    },
    {
     "name": "stdout",
     "output_type": "stream",
     "text": [
      "epoch: 39\n",
      "Current learning rate: 1.8794633197446773e-05\n",
      "train_loss: 0.348, train_acc: 0.860\n",
      "valid_loss: 0.318, valid_acc: 0.882\n",
      "valid_f1: 0.882\n"
     ]
    },
    {
     "name": "stderr",
     "output_type": "stream",
     "text": [
      "training...: 100%|██████████| 1288/1288 [00:49<00:00, 26.11it/s]\n",
      "evaluating...: 100%|██████████| 430/430 [00:16<00:00, 26.04it/s]\n"
     ]
    },
    {
     "name": "stdout",
     "output_type": "stream",
     "text": [
      "epoch: 40\n",
      "Current learning rate: 1.8316429586529617e-05\n",
      "train_loss: 0.347, train_acc: 0.857\n",
      "valid_loss: 0.317, valid_acc: 0.883\n",
      "valid_f1: 0.882\n"
     ]
    },
    {
     "name": "stderr",
     "output_type": "stream",
     "text": [
      "training...: 100%|██████████| 1288/1288 [00:49<00:00, 26.18it/s]\n",
      "evaluating...: 100%|██████████| 430/430 [00:16<00:00, 26.03it/s]\n"
     ]
    },
    {
     "name": "stdout",
     "output_type": "stream",
     "text": [
      "epoch: 41\n",
      "Current learning rate: 1.7842158032321942e-05\n",
      "train_loss: 0.343, train_acc: 0.861\n",
      "valid_loss: 0.317, valid_acc: 0.883\n",
      "valid_f1: 0.883\n"
     ]
    },
    {
     "name": "stderr",
     "output_type": "stream",
     "text": [
      "training...: 100%|██████████| 1288/1288 [00:49<00:00, 26.03it/s]\n",
      "evaluating...: 100%|██████████| 430/430 [00:16<00:00, 26.04it/s]\n"
     ]
    },
    {
     "name": "stdout",
     "output_type": "stream",
     "text": [
      "epoch: 42\n",
      "Current learning rate: 1.7372926218014136e-05\n",
      "train_loss: 0.348, train_acc: 0.857\n",
      "valid_loss: 0.317, valid_acc: 0.883\n",
      "valid_f1: 0.883\n"
     ]
    },
    {
     "name": "stderr",
     "output_type": "stream",
     "text": [
      "training...: 100%|██████████| 1288/1288 [00:49<00:00, 26.28it/s]\n",
      "evaluating...: 100%|██████████| 430/430 [00:16<00:00, 26.04it/s]\n"
     ]
    },
    {
     "name": "stdout",
     "output_type": "stream",
     "text": [
      "epoch: 43\n",
      "Current learning rate: 1.690983005625053e-05\n",
      "train_loss: 0.345, train_acc: 0.857\n",
      "valid_loss: 0.316, valid_acc: 0.884\n",
      "valid_f1: 0.884\n"
     ]
    },
    {
     "name": "stderr",
     "output_type": "stream",
     "text": [
      "training...: 100%|██████████| 1288/1288 [00:49<00:00, 26.15it/s]\n",
      "evaluating...: 100%|██████████| 430/430 [00:16<00:00, 26.07it/s]\n"
     ]
    },
    {
     "name": "stdout",
     "output_type": "stream",
     "text": [
      "epoch: 44\n",
      "Current learning rate: 1.6453951129574646e-05\n",
      "train_loss: 0.345, train_acc: 0.856\n",
      "valid_loss: 0.315, valid_acc: 0.883\n",
      "valid_f1: 0.883\n"
     ]
    },
    {
     "name": "stderr",
     "output_type": "stream",
     "text": [
      "training...: 100%|██████████| 1288/1288 [00:49<00:00, 26.03it/s]\n",
      "evaluating...: 100%|██████████| 430/430 [00:16<00:00, 26.06it/s]\n"
     ]
    },
    {
     "name": "stdout",
     "output_type": "stream",
     "text": [
      "epoch: 45\n",
      "Current learning rate: 1.6006354164343047e-05\n",
      "train_loss: 0.347, train_acc: 0.854\n",
      "valid_loss: 0.315, valid_acc: 0.883\n",
      "valid_f1: 0.883\n"
     ]
    },
    {
     "name": "stderr",
     "output_type": "stream",
     "text": [
      "training...: 100%|██████████| 1288/1288 [00:49<00:00, 26.14it/s]\n",
      "evaluating...: 100%|██████████| 430/430 [00:16<00:00, 26.08it/s]\n"
     ]
    },
    {
     "name": "stdout",
     "output_type": "stream",
     "text": [
      "epoch: 46\n",
      "Current learning rate: 1.5568084544007592e-05\n",
      "train_loss: 0.339, train_acc: 0.861\n",
      "valid_loss: 0.314, valid_acc: 0.883\n",
      "valid_f1: 0.883\n"
     ]
    },
    {
     "name": "stderr",
     "output_type": "stream",
     "text": [
      "training...: 100%|██████████| 1288/1288 [00:49<00:00, 26.03it/s]\n",
      "evaluating...: 100%|██████████| 430/430 [00:16<00:00, 26.09it/s]\n"
     ]
    },
    {
     "name": "stdout",
     "output_type": "stream",
     "text": [
      "epoch: 47\n",
      "Current learning rate: 1.514016586757394e-05\n",
      "train_loss: 0.346, train_acc: 0.857\n",
      "valid_loss: 0.314, valid_acc: 0.883\n",
      "valid_f1: 0.883\n"
     ]
    },
    {
     "name": "stderr",
     "output_type": "stream",
     "text": [
      "training...: 100%|██████████| 1288/1288 [00:48<00:00, 26.49it/s]\n",
      "evaluating...: 100%|██████████| 430/430 [00:16<00:00, 26.11it/s]\n"
     ]
    },
    {
     "name": "stdout",
     "output_type": "stream",
     "text": [
      "epoch: 48\n",
      "Current learning rate: 1.4723597558938676e-05\n",
      "train_loss: 0.346, train_acc: 0.862\n",
      "valid_loss: 0.314, valid_acc: 0.885\n",
      "valid_f1: 0.884\n"
     ]
    },
    {
     "name": "stderr",
     "output_type": "stream",
     "text": [
      "training...: 100%|██████████| 1288/1288 [00:49<00:00, 25.99it/s]\n",
      "evaluating...: 100%|██████████| 430/430 [00:16<00:00, 26.10it/s]\n"
     ]
    },
    {
     "name": "stdout",
     "output_type": "stream",
     "text": [
      "epoch: 49\n",
      "Current learning rate: 1.4319352532688447e-05\n",
      "train_loss: 0.345, train_acc: 0.860\n",
      "valid_loss: 0.313, valid_acc: 0.884\n",
      "valid_f1: 0.884\n"
     ]
    },
    {
     "name": "stderr",
     "output_type": "stream",
     "text": [
      "training...: 100%|██████████| 1288/1288 [00:49<00:00, 26.15it/s]\n",
      "evaluating...: 100%|██████████| 430/430 [00:16<00:00, 26.08it/s]\n"
     ]
    },
    {
     "name": "stdout",
     "output_type": "stream",
     "text": [
      "epoch: 50\n",
      "Current learning rate: 1.3928374921812891e-05\n",
      "train_loss: 0.340, train_acc: 0.864\n",
      "valid_loss: 0.313, valid_acc: 0.885\n",
      "valid_f1: 0.885\n"
     ]
    },
    {
     "name": "stderr",
     "output_type": "stream",
     "text": [
      "training...: 100%|██████████| 1288/1288 [00:49<00:00, 26.19it/s]\n",
      "evaluating...: 100%|██████████| 430/430 [00:16<00:00, 26.08it/s]\n"
     ]
    },
    {
     "name": "stdout",
     "output_type": "stream",
     "text": [
      "epoch: 51\n",
      "Current learning rate: 1.3551577872638299e-05\n",
      "train_loss: 0.338, train_acc: 0.862\n",
      "valid_loss: 0.312, valid_acc: 0.885\n",
      "valid_f1: 0.885\n"
     ]
    },
    {
     "name": "stderr",
     "output_type": "stream",
     "text": [
      "training...: 100%|██████████| 1288/1288 [00:49<00:00, 26.10it/s]\n",
      "evaluating...: 100%|██████████| 430/430 [00:16<00:00, 26.10it/s]\n"
     ]
    },
    {
     "name": "stdout",
     "output_type": "stream",
     "text": [
      "epoch: 52\n",
      "Current learning rate: 1.318984141213203e-05\n",
      "train_loss: 0.341, train_acc: 0.859\n",
      "valid_loss: 0.312, valid_acc: 0.885\n",
      "valid_f1: 0.885\n"
     ]
    },
    {
     "name": "stderr",
     "output_type": "stream",
     "text": [
      "training...: 100%|██████████| 1288/1288 [00:49<00:00, 26.17it/s]\n",
      "evaluating...: 100%|██████████| 430/430 [00:16<00:00, 26.12it/s]\n"
     ]
    },
    {
     "name": "stdout",
     "output_type": "stream",
     "text": [
      "epoch: 53\n",
      "Current learning rate: 1.2844010392558793e-05\n",
      "train_loss: 0.343, train_acc: 0.860\n",
      "valid_loss: 0.312, valid_acc: 0.885\n",
      "valid_f1: 0.885\n"
     ]
    },
    {
     "name": "stderr",
     "output_type": "stream",
     "text": [
      "training...: 100%|██████████| 1288/1288 [00:48<00:00, 26.51it/s]\n",
      "evaluating...: 100%|██████████| 430/430 [00:16<00:00, 26.10it/s]\n"
     ]
    },
    {
     "name": "stdout",
     "output_type": "stream",
     "text": [
      "epoch: 54\n",
      "Current learning rate: 1.2514892518288992e-05\n",
      "train_loss: 0.343, train_acc: 0.859\n",
      "valid_loss: 0.312, valid_acc: 0.884\n",
      "valid_f1: 0.884\n"
     ]
    },
    {
     "name": "stderr",
     "output_type": "stream",
     "text": [
      "training...: 100%|██████████| 1288/1288 [00:49<00:00, 26.00it/s]\n",
      "evaluating...: 100%|██████████| 430/430 [00:16<00:00, 26.06it/s]\n"
     ]
    },
    {
     "name": "stdout",
     "output_type": "stream",
     "text": [
      "epoch: 55\n",
      "Current learning rate: 1.220325645936778e-05\n",
      "train_loss: 0.334, train_acc: 0.862\n",
      "valid_loss: 0.311, valid_acc: 0.886\n",
      "valid_f1: 0.886\n"
     ]
    },
    {
     "name": "stderr",
     "output_type": "stream",
     "text": [
      "training...: 100%|██████████| 1288/1288 [00:49<00:00, 26.00it/s]\n",
      "evaluating...: 100%|██████████| 430/430 [00:16<00:00, 26.08it/s]\n"
     ]
    },
    {
     "name": "stdout",
     "output_type": "stream",
     "text": [
      "epoch: 56\n",
      "Current learning rate: 1.1909830056250529e-05\n",
      "train_loss: 0.341, train_acc: 0.862\n",
      "valid_loss: 0.311, valid_acc: 0.885\n",
      "valid_f1: 0.885\n"
     ]
    },
    {
     "name": "stderr",
     "output_type": "stream",
     "text": [
      "training...: 100%|██████████| 1288/1288 [00:49<00:00, 26.07it/s]\n",
      "evaluating...: 100%|██████████| 430/430 [00:16<00:00, 26.09it/s]\n"
     ]
    },
    {
     "name": "stdout",
     "output_type": "stream",
     "text": [
      "epoch: 57\n",
      "Current learning rate: 1.1635298619897735e-05\n",
      "train_loss: 0.339, train_acc: 0.861\n",
      "valid_loss: 0.311, valid_acc: 0.886\n",
      "valid_f1: 0.886\n"
     ]
    },
    {
     "name": "stderr",
     "output_type": "stream",
     "text": [
      "training...: 100%|██████████| 1288/1288 [00:49<00:00, 26.09it/s]\n",
      "evaluating...: 100%|██████████| 430/430 [00:16<00:00, 26.10it/s]\n"
     ]
    },
    {
     "name": "stdout",
     "output_type": "stream",
     "text": [
      "epoch: 58\n",
      "Current learning rate: 1.1380303331199511e-05\n",
      "train_loss: 0.340, train_acc: 0.859\n",
      "valid_loss: 0.310, valid_acc: 0.885\n",
      "valid_f1: 0.885\n"
     ]
    },
    {
     "name": "stderr",
     "output_type": "stream",
     "text": [
      "training...: 100%|██████████| 1288/1288 [00:49<00:00, 26.02it/s]\n",
      "evaluating...: 100%|██████████| 430/430 [00:16<00:00, 26.08it/s]\n"
     ]
    },
    {
     "name": "stdout",
     "output_type": "stream",
     "text": [
      "epoch: 59\n",
      "Current learning rate: 1.1145439743467904e-05\n",
      "train_loss: 0.343, train_acc: 0.857\n",
      "valid_loss: 0.310, valid_acc: 0.886\n",
      "valid_f1: 0.886\n"
     ]
    },
    {
     "name": "stderr",
     "output_type": "stream",
     "text": [
      "training...: 100%|██████████| 1288/1288 [00:48<00:00, 26.38it/s]\n",
      "evaluating...: 100%|██████████| 430/430 [00:16<00:00, 26.10it/s]\n"
     ]
    },
    {
     "name": "stdout",
     "output_type": "stream",
     "text": [
      "epoch: 60\n",
      "Current learning rate: 1.0931256391494548e-05\n",
      "train_loss: 0.339, train_acc: 0.861\n",
      "valid_loss: 0.310, valid_acc: 0.884\n",
      "valid_f1: 0.884\n"
     ]
    },
    {
     "name": "stderr",
     "output_type": "stream",
     "text": [
      "training...: 100%|██████████| 1288/1288 [00:49<00:00, 26.10it/s]\n",
      "evaluating...: 100%|██████████| 430/430 [00:16<00:00, 26.10it/s]\n"
     ]
    },
    {
     "name": "stdout",
     "output_type": "stream",
     "text": [
      "epoch: 61\n",
      "Current learning rate: 1.073825351042224e-05\n",
      "train_loss: 0.335, train_acc: 0.860\n",
      "valid_loss: 0.310, valid_acc: 0.887\n",
      "valid_f1: 0.887\n"
     ]
    },
    {
     "name": "stderr",
     "output_type": "stream",
     "text": [
      "training...: 100%|██████████| 1288/1288 [00:49<00:00, 26.15it/s]\n",
      "evaluating...: 100%|██████████| 430/430 [00:16<00:00, 26.09it/s]\n"
     ]
    },
    {
     "name": "stdout",
     "output_type": "stream",
     "text": [
      "epoch: 62\n",
      "Current learning rate: 1.0566881867422572e-05\n",
      "train_loss: 0.337, train_acc: 0.862\n",
      "valid_loss: 0.309, valid_acc: 0.887\n",
      "valid_f1: 0.887\n"
     ]
    },
    {
     "name": "stderr",
     "output_type": "stream",
     "text": [
      "training...: 100%|██████████| 1288/1288 [00:49<00:00, 26.27it/s]\n",
      "evaluating...: 100%|██████████| 430/430 [00:16<00:00, 26.08it/s]\n"
     ]
    },
    {
     "name": "stdout",
     "output_type": "stream",
     "text": [
      "epoch: 63\n",
      "Current learning rate: 1.041754170890834e-05\n",
      "train_loss: 0.340, train_acc: 0.862\n",
      "valid_loss: 0.309, valid_acc: 0.887\n",
      "valid_f1: 0.887\n"
     ]
    },
    {
     "name": "stderr",
     "output_type": "stream",
     "text": [
      "training...: 100%|██████████| 1288/1288 [00:49<00:00, 26.28it/s]\n",
      "evaluating...: 100%|██████████| 430/430 [00:16<00:00, 26.07it/s]\n"
     ]
    },
    {
     "name": "stdout",
     "output_type": "stream",
     "text": [
      "epoch: 64\n",
      "Current learning rate: 1.0290581825739483e-05\n",
      "train_loss: 0.333, train_acc: 0.860\n",
      "valid_loss: 0.309, valid_acc: 0.887\n",
      "valid_f1: 0.886\n"
     ]
    },
    {
     "name": "stderr",
     "output_type": "stream",
     "text": [
      "training...: 100%|██████████| 1288/1288 [00:49<00:00, 26.19it/s]\n",
      "evaluating...: 100%|██████████| 430/430 [00:16<00:00, 26.09it/s]\n"
     ]
    },
    {
     "name": "stdout",
     "output_type": "stream",
     "text": [
      "epoch: 65\n",
      "Current learning rate: 1.0186298738605868e-05\n",
      "train_loss: 0.342, train_acc: 0.859\n",
      "valid_loss: 0.309, valid_acc: 0.888\n",
      "valid_f1: 0.888\n"
     ]
    },
    {
     "name": "stderr",
     "output_type": "stream",
     "text": [
      "training...: 100%|██████████| 1288/1288 [00:49<00:00, 26.19it/s]\n",
      "evaluating...: 100%|██████████| 430/430 [00:16<00:00, 26.08it/s]\n"
     ]
    },
    {
     "name": "stdout",
     "output_type": "stream",
     "text": [
      "epoch: 66\n",
      "Current learning rate: 1.0104936005489492e-05\n",
      "train_loss: 0.335, train_acc: 0.861\n",
      "valid_loss: 0.309, valid_acc: 0.885\n",
      "valid_f1: 0.885\n"
     ]
    },
    {
     "name": "stderr",
     "output_type": "stream",
     "text": [
      "training...: 100%|██████████| 1288/1288 [00:48<00:00, 26.32it/s]\n",
      "evaluating...: 100%|██████████| 430/430 [00:16<00:00, 26.06it/s]\n"
     ]
    },
    {
     "name": "stdout",
     "output_type": "stream",
     "text": [
      "epoch: 67\n",
      "Current learning rate: 1.0046683652823517e-05\n",
      "train_loss: 0.336, train_acc: 0.861\n",
      "valid_loss: 0.308, valid_acc: 0.886\n",
      "valid_f1: 0.886\n"
     ]
    },
    {
     "name": "stderr",
     "output_type": "stream",
     "text": [
      "training...: 100%|██████████| 1288/1288 [00:49<00:00, 26.12it/s]\n",
      "evaluating...: 100%|██████████| 430/430 [00:16<00:00, 26.06it/s]\n"
     ]
    },
    {
     "name": "stdout",
     "output_type": "stream",
     "text": [
      "epoch: 68\n",
      "Current learning rate: 1.0011677731676736e-05\n",
      "train_loss: 0.336, train_acc: 0.863\n",
      "valid_loss: 0.308, valid_acc: 0.888\n",
      "valid_f1: 0.888\n"
     ]
    },
    {
     "name": "stderr",
     "output_type": "stream",
     "text": [
      "training...: 100%|██████████| 1288/1288 [00:49<00:00, 26.15it/s]\n",
      "evaluating...: 100%|██████████| 430/430 [00:16<00:00, 26.08it/s]"
     ]
    },
    {
     "name": "stdout",
     "output_type": "stream",
     "text": [
      "epoch: 69\n",
      "Current learning rate: 1.0000000000000003e-05\n",
      "train_loss: 0.336, train_acc: 0.862\n",
      "valid_loss: 0.308, valid_acc: 0.886\n",
      "valid_f1: 0.886\n"
     ]
    },
    {
     "name": "stderr",
     "output_type": "stream",
     "text": [
      "\n"
     ]
    }
   ],
   "source": [
    "for epoch in range(n_epochs):\n",
    "    # 更新学习率\n",
    "    try:\n",
    "        scheduler.step()\n",
    "        current_lr = scheduler.get_last_lr()[0]\n",
    "    except NameError:\n",
    "        pass\n",
    "\n",
    "    train_loss, train_acc = train(train_data_loader, model, criterion, optimizer, device)\n",
    "    valid_loss, valid_acc, f1 = evaluate(valid_data_loader, model, criterion, device)\n",
    "\n",
    "    metrics[\"train_losses\"].append(train_loss)\n",
    "    metrics[\"train_accs\"].append(train_acc)\n",
    "    metrics[\"valid_losses\"].append(valid_loss)\n",
    "    metrics[\"valid_accs\"].append(valid_acc)\n",
    "    metrics[\"f1_score\"].append(f1)\n",
    "\n",
    "    if valid_loss < best_valid_loss:\n",
    "        best_valid_loss = valid_loss\n",
    "        save_checkpoints(model,\"../outputs\",\"bert_sentiment.pt\",uid)\n",
    "    print(f\"epoch: {epoch}\")\n",
    "    print(f\"Current learning rate: {current_lr}\")\n",
    "    print(f\"train_loss: {train_loss:.3f}, train_acc: {train_acc:.3f}\")\n",
    "    print(f\"valid_loss: {valid_loss:.3f}, valid_acc: {valid_acc:.3f}\")\n",
    "    print(f\"valid_f1: {f1:.3f}\")"
   ]
  },
  {
   "cell_type": "code",
   "execution_count": 22,
   "id": "8ac2a935",
   "metadata": {},
   "outputs": [
    {
     "data": {
      "image/png": "[encoded data removed]",
      "text/plain": [
       "<Figure size 1000x600 with 1 Axes>"
      ]
     },
     "metadata": {},
     "output_type": "display_data"
    }
   ],
   "source": [
    "fig = plt.figure(figsize=(10, 6))\n",
    "ax = fig.add_subplot(1, 1, 1)\n",
    "ax.plot(metrics[\"train_losses\"], label=\"train loss\")\n",
    "ax.plot(metrics[\"valid_losses\"], label=\"valid loss\")\n",
    "ax.set_xlabel(\"epoch\")\n",
    "ax.set_ylabel(\"loss\")\n",
    "# ax.set_xticks(range(n_epochs))\n",
    "ax.legend()\n",
    "ax.grid()"
   ]
  },
  {
   "cell_type": "code",
   "execution_count": 23,
   "id": "8796527d",
   "metadata": {},
   "outputs": [
    {
     "data": {
      "image/png": "[encoded data removed]",
      "text/plain": [
       "<Figure size 1000x600 with 1 Axes>"
      ]
     },
     "metadata": {},
     "output_type": "display_data"
    }
   ],
   "source": [
    "fig = plt.figure(figsize=(10, 6))\n",
    "ax = fig.add_subplot(1, 1, 1)\n",
    "ax.plot(metrics[\"train_accs\"], label=\"train accuracy\")\n",
    "ax.plot(metrics[\"valid_accs\"], label=\"valid accuracy\")\n",
    "ax.set_xlabel(\"epoch\")\n",
    "ax.set_ylabel(\"loss\")\n",
    "# ax.set_xticks(range(n_epochs))\n",
    "ax.legend()\n",
    "ax.grid()"
   ]
  },
  {
   "cell_type": "code",
   "execution_count": 24,
   "id": "c9f36818",
   "metadata": {},
   "outputs": [
    {
     "name": "stderr",
     "output_type": "stream",
     "text": [
      "evaluating...: 100%|██████████| 300/300 [00:11<00:00, 26.00it/s]"
     ]
    },
    {
     "name": "stdout",
     "output_type": "stream",
     "text": [
      "test_loss: 0.283, test_acc: 0.898, test_f1: 0.898\n"
     ]
    },
    {
     "name": "stderr",
     "output_type": "stream",
     "text": [
      "\n"
     ]
    }
   ],
   "source": [
    "# model.load_state_dict(torch.load(\"transformer.pt\"))\n",
    "\n",
    "test_loss, test_acc, test_f1 = evaluate(test_data_loader, model, criterion, device)\n",
    "print(f\"test_loss: {test_loss:.3f}, test_acc: {test_acc:.3f}, test_f1: {test_f1:.3f}\")"
   ]
  },
  {
   "cell_type": "code",
   "execution_count": 25,
   "id": "fca30739",
   "metadata": {},
   "outputs": [],
   "source": [
    "def predict_sentiment(text, model, tokenizer, device):\n",
    "    ids= tokenizer(text)[\"input_ids\"]\n",
    "    tensor = torch.LongTensor(ids).unsqueeze(dim=0).to(device)\n",
    "    prediction = model(tensor).squeeze(dim=0)\n",
    "    probability = torch.softmax(prediction, dim=-1)\n",
    "    predicted_class = prediction.argmax(dim=-1).item()\n",
    "    predicted_probability = probability[predicted_class].item()\n",
    "    return predicted_class, predicted_probability"
   ]
  },
  {
   "cell_type": "code",
   "execution_count": 26,
   "id": "ad677cd1",
   "metadata": {},
   "outputs": [
    {
     "data": {
      "text/plain": [
       "(0, 0.8883987069129944)"
      ]
     },
     "execution_count": 26,
     "metadata": {},
     "output_type": "execute_result"
    }
   ],
   "source": [
    "text = \"迪威迅股权质押违约 控股股东或被动减持\"\n",
    "# text = \"银行股全线飘绿 平安银行跌4%\"\n",
    "\n",
    "predict_sentiment(text, model, tokenizer, device)"
   ]
  },
  {
   "cell_type": "code",
   "execution_count": 27,
   "id": "e7c35353",
   "metadata": {},
   "outputs": [
    {
     "data": {
      "text/plain": [
       "(1, 0.9766350984573364)"
      ]
     },
     "execution_count": 27,
     "metadata": {},
     "output_type": "execute_result"
    }
   ],
   "source": [
    "text = \"平安银行理财子公司获批筹建：注册资本50亿 股份行第五家\"\n",
    "\n",
    "predict_sentiment(text, model, tokenizer, device)"
   ]
  }
 ],
 "metadata": {
  "kernelspec": {
   "display_name": "Python 3 (ipykernel)",
   "language": "python",
   "name": "python3"
  },
  "language_info": {
   "codemirror_mode": {
    "name": "ipython",
    "version": 3
   },
   "file_extension": ".py",
   "mimetype": "text/x-python",
   "name": "python",
   "nbconvert_exporter": "python",
   "pygments_lexer": "ipython3",
   "version": "3.10.14"
  }
 },
 "nbformat": 4,
 "nbformat_minor": 5
}
